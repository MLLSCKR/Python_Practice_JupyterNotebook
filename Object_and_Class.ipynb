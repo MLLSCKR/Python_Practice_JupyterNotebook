{
 "cells": [
  {
   "cell_type": "code",
   "execution_count": 1,
   "id": "5d6b24ea",
   "metadata": {},
   "outputs": [],
   "source": [
    "# Practice. What is \"Class\"?\n",
    "# Source : 이수안컴퓨터 연구소 YOUTUBE."
   ]
  },
  {
   "cell_type": "code",
   "execution_count": 2,
   "id": "745313ac",
   "metadata": {},
   "outputs": [],
   "source": [
    "# 객체(Object)\n",
    "# 객체란 존재하는 모든것들을 의미한다.\n",
    "# 현실세계는 객체로 이루어져 있고, 모든 사건들은 사물간의 상호작용을 통해 발생한다.\n",
    "# 객체란 객체의 속성을 이루는 데이터들 뿐만 아니라 그 데이터의 조작방법에 대한 내용도 포함한다.\n",
    "# 객체는 속성과 기능을 가지고 있는 것이 핵심이다.\n",
    "# \n",
    "# 객체의 구성 -> name : attributes : methods"
   ]
  },
  {
   "cell_type": "code",
   "execution_count": 3,
   "id": "0a867e81",
   "metadata": {},
   "outputs": [],
   "source": [
    "# 객체 지향 프로그래밍\n",
    "# 객체 개념을 다루는 것이 객체지향이다.\n",
    "# 객체 지향 프로그래밍은 컴퓨터 프로그래밍 기법 중 하나이다.\n",
    "# 프로그래밍을 단순히 데이터와 처리 방법으로 나누는 것이 아니라, 프로그램을 수많은 '객체'라는 단위로 구분하고, 이 객체들의 상호작용하는 방식\n",
    "# 각각의 객체는 메시지를 주고 받고, 데이터를 처리한다."
   ]
  },
  {
   "cell_type": "code",
   "execution_count": 4,
   "id": "9ab8878f",
   "metadata": {},
   "outputs": [],
   "source": [
    "# Class\n",
    "# 객체의 구성요소를 담는 개념\n",
    "# 여러개의 속성과 메소드를 포함하는 개념\n",
    "# 객체를 정의하는 틀 또는 설계도이다.\n",
    "# 실제 생성된 객체는 인스턴스이다.\n",
    "# 인스턴스는 메모리에 할당된 객체를 의미한다.\n",
    "# \n",
    "# 객체가 class라는 틀을 통해 만들어지는데, 만들어진 그 객체를 인스턴스라 부른다.\n",
    "# \n",
    "# class Name(object):"
   ]
  },
  {
   "cell_type": "code",
   "execution_count": 5,
   "id": "bca58bdb",
   "metadata": {},
   "outputs": [],
   "source": [
    "# Class Example\n",
    "# Class name -> Book\n",
    "# Attribute -> 저자, 책이름, 출판사, 발행일\n",
    "\n",
    "# class name -> Book\n",
    "class Book(object):\n",
    "    # 속성값들 -> author, title, publisher, published_date\n",
    "    author = \"\"\n",
    "    title = \"\"\n",
    "    publisher = \"\"\n",
    "    published_date = \"\"\n"
   ]
  },
  {
   "cell_type": "code",
   "execution_count": 7,
   "id": "acdde725",
   "metadata": {},
   "outputs": [
    {
     "name": "stdout",
     "output_type": "stream",
     "text": [
      "Suan\n"
     ]
    }
   ],
   "source": [
    "book = Book()\n",
    "book.author = \"Suan\"\n",
    "print(book.author)"
   ]
  },
  {
   "cell_type": "code",
   "execution_count": 8,
   "id": "4e37b74c",
   "metadata": {},
   "outputs": [],
   "source": [
    "book.title = \"Python Programming\"\n",
    "book.published_date = \"220103\""
   ]
  },
  {
   "cell_type": "code",
   "execution_count": 10,
   "id": "3c15decc",
   "metadata": {},
   "outputs": [],
   "source": [
    "# Book Class Method 정의\n",
    "# Method\n",
    "#     1. 책 정보 출력 : print_info(self)\n",
    "#         self가 있어야만 실제로 인스턴스가 사용할 수 있는 메소드로 선언\n",
    "#         print_info(self)에서 self는 실제적으로 b1 인스턴스를 의미한다.\n",
    "#         메소드 안에서 속성 값을 사용하지 않을 경우에는 self 생략 가능하다.\n",
    "\n",
    "class Book(object):\n",
    "    author = \"\"\n",
    "    title = \"\"\n",
    "    publisher = \"\"\n",
    "    published_date = \"\"\n",
    "    \n",
    "    def print_info(self):\n",
    "        print(\"This book's author is {}\" .format(self.author))\n",
    "        print(\"This book's title is {}\" .format(self.title))\n",
    "        print(\"This book's publisher is {}\" .format(self.publisher))\n",
    "        print(\"This book's published date is {}\" .format(self.published_date))"
   ]
  },
  {
   "cell_type": "code",
   "execution_count": 11,
   "id": "8f05c191",
   "metadata": {},
   "outputs": [
    {
     "name": "stdout",
     "output_type": "stream",
     "text": [
      "This book's author is Suan\n",
      "This book's title is Python Programming\n",
      "This book's publisher is Youtube\n",
      "This book's published date is 220110\n"
     ]
    }
   ],
   "source": [
    "# book은 instance이다!!!\n",
    "book = Book()\n",
    "book.author = \"Suan\"\n",
    "book.title = \"Python Programming\"\n",
    "book.publisher = \"Youtube\"\n",
    "book.published_date = \"220110\"\n",
    "\n",
    "book.print_info()"
   ]
  },
  {
   "cell_type": "code",
   "execution_count": 12,
   "id": "2e383c99",
   "metadata": {},
   "outputs": [],
   "source": [
    "# Instance 속성(Instance Attribute)\n",
    "# 인스턴스 속성은 객체로부터 인스턴스가 생성된 후에 인스턴스에서 활용하는 속성이다.\n",
    "# ex) Book Class의 경우\n",
    "# class : 저자, 제목, 추판사, 발행일\n",
    "# instance : 저자, 제목, 출판사, 발행일\n",
    "#            저자, 제목, 출판사, 발행일\n",
    "#            저자, 제목, 출판사, 발행일"
   ]
  },
  {
   "cell_type": "code",
   "execution_count": 13,
   "id": "dc635884",
   "metadata": {},
   "outputs": [
    {
     "name": "stdout",
     "output_type": "stream",
     "text": [
      "This book's author is Suan\n",
      "This book's title is Python Programming\n",
      "This book's publisher is Youtube\n",
      "This book's published date is 220110\n"
     ]
    }
   ],
   "source": [
    "book = Book()\n",
    "# book이라는 instance + .xxxx로 접근한 것들이 전부 instance 속성이다!!!\n",
    "book.author = \"Suan\"\n",
    "book.title = \"Python Programming\"\n",
    "book.publisher = \"Youtube\"\n",
    "book.published_date = \"220110\"\n",
    "\n",
    "book.print_info()"
   ]
  },
  {
   "cell_type": "code",
   "execution_count": 14,
   "id": "a2cc6517",
   "metadata": {},
   "outputs": [],
   "source": [
    "# Class 속성(Class Attribute)\n",
    "# Class 속성은 Class 자체에서 사용되는 속성이다.\n",
    "# ex) Book Class의 경우\n",
    "#     Book Class 자체 내에서 사용되는 속성"
   ]
  },
  {
   "cell_type": "code",
   "execution_count": 15,
   "id": "1fc2a7a3",
   "metadata": {},
   "outputs": [],
   "source": [
    "Book.author = \"Suan\"\n",
    "Book.title = \"Python Programming\""
   ]
  },
  {
   "cell_type": "code",
   "execution_count": 16,
   "id": "7ab422bb",
   "metadata": {},
   "outputs": [
    {
     "name": "stdout",
     "output_type": "stream",
     "text": [
      "This book's author is Suan\n",
      "This book's title is Python Programming\n",
      "This book's publisher is \n",
      "This book's published date is \n"
     ]
    }
   ],
   "source": [
    "# 출력결과를 보면 Class 속성으로 받은 author와 title은 instance 속성으로 값을 바꿔주지 않았음에도 기본값으로 앞줄에서 \n",
    "# 이미 설정이 되어 있음을 확인할 수 있다.\n",
    "b1 = Book()\n",
    "b1.print_info()"
   ]
  },
  {
   "cell_type": "code",
   "execution_count": 17,
   "id": "4e1ef665",
   "metadata": {},
   "outputs": [],
   "source": [
    "# Instance Attribue와 Class Attribue의 활용\n",
    "# Instance 속성과 Class 속성을 목적에 맞도록 나누어서 활용하는 것이 중요하다.\n",
    "# 간단히 예를 들자면 모든 instance에 공통적으로 공유되는 값을 한번에 변경하고 싶을 경우 class attribute를 사용하는 것이 효과적일 것."
   ]
  },
  {
   "cell_type": "code",
   "execution_count": 25,
   "id": "86020112",
   "metadata": {},
   "outputs": [],
   "source": [
    "# Book Class의 instance, class attribue\n",
    "# instance attribute : 저자, 제목, 출판사, 발행일\n",
    "# Class attribute : count\n",
    "\n",
    "class Book(object):\n",
    "    author = \"\"\n",
    "    title = \"\"\n",
    "    publisher = \"\"\n",
    "    published_date = \"\"\n",
    "    \n",
    "    count = 0\n",
    "    \n",
    "    def print_info(self):\n",
    "        print(\"This book's author is {}\" .format(self.author))\n",
    "        print(\"This book's title is {}\" .format(self.title))\n",
    "        print(\"This book's publisher is {}\" .format(self.publisher))\n",
    "        print(\"This book's published date is {}\" .format(self.published_date))\n",
    "        "
   ]
  },
  {
   "cell_type": "code",
   "execution_count": 26,
   "id": "43d59736",
   "metadata": {},
   "outputs": [
    {
     "name": "stdout",
     "output_type": "stream",
     "text": [
      "This book's author is Suan\n",
      "This book's title is Python Programming\n",
      "This book's publisher is Youtube\n",
      "This book's published date is 220110\n",
      "Number of Books : 1\n"
     ]
    }
   ],
   "source": [
    "book = Book()\n",
    "\n",
    "# Instance Attribute\n",
    "book.author = \"Suan\"\n",
    "book.title = \"Python Programming\"\n",
    "book.publisher = \"Youtube\"\n",
    "book.published_date = \"220110\"\n",
    "\n",
    "# Class Attribute\n",
    "Book.count += 1\n",
    "\n",
    "book.print_info()\n",
    "\n",
    "print(\"Number of Books : {}\" .format(book.count))"
   ]
  },
  {
   "cell_type": "code",
   "execution_count": 27,
   "id": "1552a9b1",
   "metadata": {},
   "outputs": [],
   "source": [
    "# Class Magic Methods\n",
    "# '_'를 2개 붙여서 매직 메소드 또는 속성에 사용 가능\n",
    "# _를 속성 앞에 붙이면 가시성을 위한 속성으로 사용\n",
    "# Class Magin Methods의 종류는 아래와 같다.\n",
    "#     magic method 설명\n",
    "#     __init__ 객체의 초기화를 위해 클래스 생성 시 호출되는 동작을 정의\n",
    "#     __str__ 클래스의 instance에서 str()이 호출될 때의 동작을 정의\n",
    "#     __repr__ 클래스의 instance에서 repr()이 호출될 때의 동작을 정의\n",
    "#     __new__ 객체의 인스턴스화에서 호출될 때의 동작을 정의\n",
    "#     __del__ 객체가 소멸될 때 호출되는 메소드\n",
    "#     __dir__ 클래스의 인스턴스에서 dir()이 호출될 때의 동작을 정의\n",
    "#     __getattr__ 존재하지 않는 속성에 access하려고 시도할 때 행위를 정의\n",
    "#     __setattr__ 캡슐화를 위한 방법 정의\n",
    "#     __add__ 두 instace의 더하기가 일어날 때 실행되는 동작 정의\n",
    "#     __lt__, __le__, __gt__, __ge__, __eq__, __ne__ 두 인스턴스 간의 <, <=, >=, ==, != 비교 메소드\n"
   ]
  },
  {
   "cell_type": "code",
   "execution_count": 35,
   "id": "3e4d6b68",
   "metadata": {},
   "outputs": [],
   "source": [
    "# __init__ method\n",
    "# class의 속성들을 초기화함\n",
    "class Book(object):\n",
    "    count = 0\n",
    "    \n",
    "    def __init__(self, author, title, publisher, date):\n",
    "        self.author = author\n",
    "        self.title = title\n",
    "        self.publisher = publisher\n",
    "        self.date = date\n",
    "        Book.count += 1\n",
    "    \n",
    "    \n",
    "    \n",
    "    def print_info(self):\n",
    "        print(\"This book's author is {}\" .format(self.author))\n",
    "        print(\"This book's title is {}\" .format(self.title))\n",
    "        print(\"This book's publisher is {}\" .format(self.publisher))\n",
    "        print(\"This book's published date is {}\" .format(self.date))\n"
   ]
  },
  {
   "cell_type": "code",
   "execution_count": 41,
   "id": "ee979671",
   "metadata": {},
   "outputs": [],
   "source": [
    "# instance 선언시 받아오는 각 값들을 해당 위치에 matching 해줌을 확인\n",
    "book = Book(\"Suan\", \"Python Programming\", \"Youtube\", \"220110\")"
   ]
  },
  {
   "cell_type": "code",
   "execution_count": 42,
   "id": "3aadffd0",
   "metadata": {},
   "outputs": [
    {
     "name": "stdout",
     "output_type": "stream",
     "text": [
      "This book's author is Suan\n",
      "This book's title is Python Programming\n",
      "This book's publisher is Youtube\n",
      "This book's published date is 220110\n"
     ]
    }
   ],
   "source": [
    "book.print_info()"
   ]
  },
  {
   "cell_type": "code",
   "execution_count": 43,
   "id": "9faf8d5a",
   "metadata": {},
   "outputs": [
    {
     "name": "stdout",
     "output_type": "stream",
     "text": [
      "2\n"
     ]
    }
   ],
   "source": [
    "print(book.count)"
   ]
  },
  {
   "cell_type": "code",
   "execution_count": 51,
   "id": "cc184989",
   "metadata": {},
   "outputs": [],
   "source": [
    "# __str__ method\n",
    "# __str__() method를 활용하여 instance 출력\n",
    "\n",
    "class Book(object):\n",
    "    count = 0\n",
    "    \n",
    "    def __init__(self, author, title, publisher, date):\n",
    "        self.author = author\n",
    "        self.title = title\n",
    "        self.publisher = publisher\n",
    "        self.date = date\n",
    "        Book.count += 1\n",
    "    \n",
    "    \n",
    "    \n",
    "    def __str__(self):\n",
    "        return (\"Author : \" + self.author + \\\n",
    "               \"\\nTitle : \" + self.title + \\\n",
    "               \"\\nPublisher : \" + self.publisher + \\\n",
    "               \"\\nDate : \" + self.date)"
   ]
  },
  {
   "cell_type": "code",
   "execution_count": 52,
   "id": "e179e107",
   "metadata": {},
   "outputs": [],
   "source": [
    "book = Book(\"Suan\", \"Python Programming\", \"Youtube\", \"220110\")"
   ]
  },
  {
   "cell_type": "code",
   "execution_count": 54,
   "id": "be3d9732",
   "metadata": {},
   "outputs": [
    {
     "name": "stdout",
     "output_type": "stream",
     "text": [
      "Author : Suan\n",
      "Title : Python Programming\n",
      "Publisher : Youtube\n",
      "Date : 220110\n"
     ]
    }
   ],
   "source": [
    "# print(book)을 통해서 출력할수 있음!!!\n",
    "print(book)"
   ]
  },
  {
   "cell_type": "code",
   "execution_count": 59,
   "id": "2744a846",
   "metadata": {},
   "outputs": [],
   "source": [
    "# Magic Method 예제\n",
    "# Line Class\n",
    "\n",
    "class Line(object):\n",
    "    length = 0\n",
    "    \n",
    "    def __init__(self, length):\n",
    "        self.length = length\n",
    "        print(self.length, \"길이의 선 생성\")\n",
    "\n",
    "    def __del__(self):\n",
    "        print(self.length, \"길이의 선 삭제\")\n",
    "    \n",
    "    def __repr__(self):\n",
    "        return str(self.length)\n",
    "    \n",
    "    def __add__(self, other):\n",
    "        return self.length + other.length\n",
    "    \n",
    "    def __lt__(self, other):\n",
    "        return self.length < other.length\n",
    "    \n",
    "    def __le__(self, other):\n",
    "        return self.length <= other.length\n",
    "    \n",
    "    def __gt__(self, other):\n",
    "        return self.length > other.length\n",
    "    \n",
    "    def __ge__(self, other):\n",
    "        return self.length >= other.length\n",
    "    \n",
    "    def __ne__(self, other):\n",
    "        return self.length != other.length\n",
    "    \n",
    "    def __eq__(self, other):\n",
    "        return self.length == other.length"
   ]
  },
  {
   "cell_type": "code",
   "execution_count": 60,
   "id": "fe7394ea",
   "metadata": {},
   "outputs": [
    {
     "name": "stdout",
     "output_type": "stream",
     "text": [
      "10 길이의 선 생성\n",
      "10\n",
      "20 길이의 선 생성\n",
      "20\n"
     ]
    }
   ],
   "source": [
    "line1 = Line(10)\n",
    "print(line1)\n",
    "line2 = Line(20)\n",
    "print(line2)"
   ]
  },
  {
   "cell_type": "code",
   "execution_count": 61,
   "id": "b5ba9ae0",
   "metadata": {},
   "outputs": [
    {
     "name": "stdout",
     "output_type": "stream",
     "text": [
      "10 길이의 선 삭제\n"
     ]
    }
   ],
   "source": [
    "del(line1)"
   ]
  },
  {
   "cell_type": "code",
   "execution_count": 62,
   "id": "64246690",
   "metadata": {},
   "outputs": [
    {
     "ename": "NameError",
     "evalue": "name 'line1' is not defined",
     "output_type": "error",
     "traceback": [
      "\u001b[1;31m---------------------------------------------------------------------------\u001b[0m",
      "\u001b[1;31mNameError\u001b[0m                                 Traceback (most recent call last)",
      "\u001b[1;32m~\\AppData\\Local\\Temp/ipykernel_3892/290531803.py\u001b[0m in \u001b[0;36m<module>\u001b[1;34m\u001b[0m\n\u001b[1;32m----> 1\u001b[1;33m \u001b[0mline1\u001b[0m\u001b[1;33m\u001b[0m\u001b[1;33m\u001b[0m\u001b[0m\n\u001b[0m",
      "\u001b[1;31mNameError\u001b[0m: name 'line1' is not defined"
     ]
    }
   ],
   "source": [
    "line1"
   ]
  },
  {
   "cell_type": "code",
   "execution_count": 63,
   "id": "eb42b29c",
   "metadata": {},
   "outputs": [
    {
     "name": "stdout",
     "output_type": "stream",
     "text": [
      "10 길이의 선 생성\n"
     ]
    }
   ],
   "source": [
    "line1 = Line(10)"
   ]
  },
  {
   "cell_type": "code",
   "execution_count": 71,
   "id": "8e0c40c0",
   "metadata": {},
   "outputs": [
    {
     "name": "stdout",
     "output_type": "stream",
     "text": [
      "30\n",
      "<class 'int'>\n",
      "<class '__main__.Line'>\n"
     ]
    }
   ],
   "source": [
    "line3 = line1 + line2\n",
    "print(line3)\n",
    "print(type(line3))\n",
    "print(type(line1))"
   ]
  },
  {
   "cell_type": "code",
   "execution_count": 72,
   "id": "3f123147",
   "metadata": {},
   "outputs": [
    {
     "data": {
      "text/plain": [
       "False"
      ]
     },
     "execution_count": 72,
     "metadata": {},
     "output_type": "execute_result"
    }
   ],
   "source": [
    "line1 > line2"
   ]
  },
  {
   "cell_type": "code",
   "execution_count": 74,
   "id": "e8c6c670",
   "metadata": {},
   "outputs": [
    {
     "data": {
      "text/plain": [
       "True"
      ]
     },
     "execution_count": 74,
     "metadata": {},
     "output_type": "execute_result"
    }
   ],
   "source": [
    "line1 < line2"
   ]
  },
  {
   "cell_type": "code",
   "execution_count": 75,
   "id": "aa31917f",
   "metadata": {},
   "outputs": [],
   "source": [
    "# 가시성 예제\n",
    "# __items 속성은 Box 객체 외부에서 보이지 않도록 캡슐화와 정보 은닉이 가능\n",
    "# 외부에서 __items 속성에 접근하면 속성 오류 발생\n",
    "\n",
    "class Box(object):\n",
    "    def __init__(self, name):\n",
    "        self.name = name\n",
    "        self.__items = []\n",
    "    \n",
    "    def add_item(self, item):\n",
    "        self.__items.append(item)\n",
    "        print(\"item added\")\n",
    "    \n",
    "    def get_number_of_items(self):\n",
    "        return len(self.__items)"
   ]
  },
  {
   "cell_type": "code",
   "execution_count": 77,
   "id": "d794a9b8",
   "metadata": {},
   "outputs": [],
   "source": [
    "b1 = Box('practice_box')"
   ]
  },
  {
   "cell_type": "code",
   "execution_count": 78,
   "id": "8f126d81",
   "metadata": {},
   "outputs": [
    {
     "data": {
      "text/plain": [
       "'practice_box'"
      ]
     },
     "execution_count": 78,
     "metadata": {},
     "output_type": "execute_result"
    }
   ],
   "source": [
    "b1.name"
   ]
  },
  {
   "cell_type": "code",
   "execution_count": 79,
   "id": "bc10455e",
   "metadata": {},
   "outputs": [
    {
     "name": "stdout",
     "output_type": "stream",
     "text": [
      "item added\n"
     ]
    }
   ],
   "source": [
    "b1.add_item('item1')"
   ]
  },
  {
   "cell_type": "code",
   "execution_count": 80,
   "id": "c2bac3f0",
   "metadata": {},
   "outputs": [
    {
     "name": "stdout",
     "output_type": "stream",
     "text": [
      "item added\n"
     ]
    }
   ],
   "source": [
    "b1.add_item('item2')"
   ]
  },
  {
   "cell_type": "code",
   "execution_count": 82,
   "id": "06d5eede",
   "metadata": {},
   "outputs": [
    {
     "data": {
      "text/plain": [
       "2"
      ]
     },
     "execution_count": 82,
     "metadata": {},
     "output_type": "execute_result"
    }
   ],
   "source": [
    "b1.get_number_of_items()"
   ]
  },
  {
   "cell_type": "code",
   "execution_count": 83,
   "id": "aedba512",
   "metadata": {},
   "outputs": [
    {
     "ename": "AttributeError",
     "evalue": "'Box' object has no attribute '__items'",
     "output_type": "error",
     "traceback": [
      "\u001b[1;31m---------------------------------------------------------------------------\u001b[0m",
      "\u001b[1;31mAttributeError\u001b[0m                            Traceback (most recent call last)",
      "\u001b[1;32m~\\AppData\\Local\\Temp/ipykernel_3892/2417393365.py\u001b[0m in \u001b[0;36m<module>\u001b[1;34m\u001b[0m\n\u001b[1;32m----> 1\u001b[1;33m \u001b[0mb1\u001b[0m\u001b[1;33m.\u001b[0m\u001b[0m__items\u001b[0m\u001b[1;33m\u001b[0m\u001b[1;33m\u001b[0m\u001b[0m\n\u001b[0m",
      "\u001b[1;31mAttributeError\u001b[0m: 'Box' object has no attribute '__items'"
     ]
    }
   ],
   "source": [
    "# 외부에서 __items에 어떤 값들이 들어있는지 확인 불가능하게 캡슐화!\n",
    "b1.__items"
   ]
  },
  {
   "cell_type": "code",
   "execution_count": 87,
   "id": "d0e2e8a0",
   "metadata": {},
   "outputs": [
    {
     "data": {
      "text/plain": [
       "'prac_box2'"
      ]
     },
     "execution_count": 87,
     "metadata": {},
     "output_type": "execute_result"
    }
   ],
   "source": [
    "# Class 상속\n",
    "# 기존 클래스에 잇는 속성과 메소드를 그대로 상속받아 새로운 클래스를 생성\n",
    "# 공통된 클래스를 부모로 두고 자식들이 상속을 받아 클래스를 생성하므로 일관성있는 프로그래밍 가능하다.\n",
    "# 기존 클래스에서 일부를 추가/변경한 새로운 클래스 생성으로 코드 재사용 가능하다.\n",
    "# 클래스 상속 문법 : class SubClass(SuperClass):\n",
    "\n",
    "# class inheritance example\n",
    "class subbox(Box):\n",
    "    pass\n",
    "\n",
    "b2 = subbox(\"prac_box2\")\n",
    "b2.name"
   ]
  },
  {
   "cell_type": "code",
   "execution_count": 88,
   "id": "d323193b",
   "metadata": {},
   "outputs": [],
   "source": [
    "# Method Overriding\n",
    "# SuperClass로부터 subclass1, subcalss2가 class 상속을 받음\n",
    "# 아무 내용도 없는 추상 메소드(Abstract Mtehod)를 정의\n",
    "# subclass1의 method는 supercalss의 추상 method를 overriding\n",
    "\n",
    "class SuperClass(object):\n",
    "    def method(self):\n",
    "        pass\n",
    "\n",
    "class SubClass1(SuperClass):\n",
    "    def method(self):\n",
    "        print(\"Method Overriding\")\n",
    "\n",
    "class SubClass2(SuperClass):\n",
    "    pass"
   ]
  },
  {
   "cell_type": "code",
   "execution_count": 89,
   "id": "46bc5e01",
   "metadata": {},
   "outputs": [
    {
     "name": "stdout",
     "output_type": "stream",
     "text": [
      "Method Overriding\n"
     ]
    }
   ],
   "source": [
    "sub1 = SubClass1()\n",
    "sub2 = SubClass2()\n",
    "\n",
    "sub1.method()\n",
    "sub2.method()"
   ]
  },
  {
   "cell_type": "code",
   "execution_count": 95,
   "id": "4a65527a",
   "metadata": {},
   "outputs": [],
   "source": [
    "# Class 상속, Method Overriding Example\n",
    "\n",
    "# 1. Vehicle class를 상속받아 Car Class와 Truck Class를 생성\n",
    "# 2. Car class, Truck class는 up_speed method를 overriding\n",
    "# 3. Car class는 속도가 240초과되면 240으로 조정\n",
    "# 4. Truck class는 속도가 180초과되면 180으로 조정\n",
    "\n",
    "class Vehicle(object):\n",
    "    def __init__(self, speed):\n",
    "        self.speed = speed\n",
    "    \n",
    "    def up_speed(self, value):\n",
    "        self.speed += value\n",
    "    \n",
    "    def down_speed(self, value):\n",
    "        self.speed -= value\n",
    "    \n",
    "    def print_speed(self):\n",
    "        print(\"Speed : \", str(self.speed))\n",
    "\n",
    "        \n",
    "class Car(Vehicle):\n",
    "    def up_speed(self, value):\n",
    "        self.speed += value\n",
    "        if self.speed > 240:\n",
    "            self.speed = 240\n",
    "            print(\"Your car's speed is {}. Can't speed up more than 240\" .format(self.speed))\n",
    "\n",
    "class Truck(Vehicle):\n",
    "    def up_speed(self, value):\n",
    "        self.speed += value\n",
    "        if self.speed > 180:\n",
    "            self.speed = 180\n",
    "            print(\"Your truck's speed is {}. Can't speed up more than 180\" .format(self.speed))\n",
    "            "
   ]
  },
  {
   "cell_type": "code",
   "execution_count": 96,
   "id": "1c0b5fe5",
   "metadata": {},
   "outputs": [
    {
     "name": "stdout",
     "output_type": "stream",
     "text": [
      "Your car's speed is 240. Can't speed up more than 240\n",
      "Your truck's speed is 180. Can't speed up more than 180\n"
     ]
    }
   ],
   "source": [
    "Car1 = Car(150)\n",
    "Truck1 = Truck(120)\n",
    "\n",
    "Car1.up_speed(100)\n",
    "Truck1.up_speed(70)"
   ]
  },
  {
   "cell_type": "code",
   "execution_count": 97,
   "id": "584183fc",
   "metadata": {},
   "outputs": [
    {
     "data": {
      "text/plain": [
       "240"
      ]
     },
     "execution_count": 97,
     "metadata": {},
     "output_type": "execute_result"
    }
   ],
   "source": [
    "Car1.speed"
   ]
  },
  {
   "cell_type": "code",
   "execution_count": 98,
   "id": "99207fde",
   "metadata": {},
   "outputs": [
    {
     "name": "stdout",
     "output_type": "stream",
     "text": [
      "Speed :  140\n"
     ]
    }
   ],
   "source": [
    "Car1.down_speed(100)\n",
    "Car1.print_speed()"
   ]
  },
  {
   "cell_type": "code",
   "execution_count": null,
   "id": "177f6b06",
   "metadata": {},
   "outputs": [],
   "source": []
  }
 ],
 "metadata": {
  "kernelspec": {
   "display_name": "Python 3 (ipykernel)",
   "language": "python",
   "name": "python3"
  },
  "language_info": {
   "codemirror_mode": {
    "name": "ipython",
    "version": 3
   },
   "file_extension": ".py",
   "mimetype": "text/x-python",
   "name": "python",
   "nbconvert_exporter": "python",
   "pygments_lexer": "ipython3",
   "version": "3.9.7"
  }
 },
 "nbformat": 4,
 "nbformat_minor": 5
}
