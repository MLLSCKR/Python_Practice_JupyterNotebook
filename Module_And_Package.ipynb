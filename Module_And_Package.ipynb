{
 "cells": [
  {
   "cell_type": "code",
   "execution_count": 1,
   "id": "3720b172",
   "metadata": {},
   "outputs": [],
   "source": [
    "# 모듈의 장점\n",
    "# 1. 단순성\n",
    "#     전체 문제에 초점을 맞추기보다는 문제의 상대적으로 작은 부분에만 초점을 맞춘다.\n",
    "#     단일 모듈로 작업할 수 있는 작은 도메인\n",
    "#     개발이 쉬우며 오류 발생이 적음\n",
    "# 2. 유지보수성\n",
    "#     일반적으로 모듈은 서로 다른 문제 영역간에 논리적 경계를 설정하도록 설계\n",
    "#     상호 의존성을 최소화하는 방식으로 모듈을 작성하여 단일 모듈을 수정하면 프로그램의 다른 부분에 영향을 미칠 가능성이 줄어듬\n",
    "#     모듈 외부의 응용 프로그램에 대해 전혀 알지 못해도 모듈을 변경할 수 있음\n",
    "#     개발팀이 대규모 응용 프로그램에서 공동으로 작업할 수 있음\n",
    "# 3. 재사용성\n",
    "#     단일 모듈에서 정의된 기능은 응용 프로그램의 다른 부분에서 (적절히 정의된 인터페이스를 통해) 쉽게 재사용 가능\n",
    "#     중복 코드를 만들 필요가 없음\n",
    "# 4. 범위 지정\n",
    "#     일반적으로 모듈은 프로그램의 여러 영역에서 식별자 간의 충돌을 피하는 데 도움이 되는 별도의 네임 스페이스를 정의"
   ]
  },
  {
   "cell_type": "code",
   "execution_count": 2,
   "id": "d68d1bd3",
   "metadata": {},
   "outputs": [],
   "source": [
    "# 모듈의 종류\n",
    "# 사용자 정의 모듈 : 사용자가 직접 정의해서 사용하는 모듈\n",
    "# 표준 모듈 : 파이썬에서 기본 제공하는 모듈\n",
    "# 서드 파티 모듈 : 외부에서 제공하는 모듈\n",
    "#     파이써 표줌 모듈에 모든 기능이 있지 않음\n",
    "#     서드 파티 모듈을 이용해 고급 프로그래밍 가능\n",
    "#     ex) 게임 개발을 위한 pygame, database 기능의 SQLAlchemy, data 분석 기능의 numpy"
   ]
  },
  {
   "cell_type": "code",
   "execution_count": 3,
   "id": "bc2b4fe7",
   "metadata": {},
   "outputs": [],
   "source": [
    "# 사용자 정의 모듈\n",
    "# 사용자가 사용할 모듈을 직접 정의\n",
    "# 모듈 이름으로 파일명을 사용한다.\n",
    "# IPython 내장 매직 명령어(magic command) 사용\n",
    "#    %%writefile : cell의 코드를 .py python code file로 저장\n",
    "#    %load : python code file 불러오기\n",
    "#    %run : python code file 실행"
   ]
  },
  {
   "cell_type": "code",
   "execution_count": 4,
   "id": "c3f98b18",
   "metadata": {},
   "outputs": [
    {
     "name": "stdout",
     "output_type": "stream",
     "text": [
      "Writing Module.py\n"
     ]
    }
   ],
   "source": [
    "%%writefile Module.py\n",
    "def func1():\n",
    "    print(\"Module.py : func1()\")\n",
    "\n",
    "def func2():\n",
    "    print(\"Module.py : func2()\")\n",
    "\n",
    "def func3():\n",
    "    print(\"Module.py : func3()\")"
   ]
  },
  {
   "cell_type": "code",
   "execution_count": 6,
   "id": "a2fd1a28",
   "metadata": {},
   "outputs": [
    {
     "name": "stdout",
     "output_type": "stream",
     "text": [
      " C 드라이브의 볼륨에는 이름이 없습니다.\n",
      " 볼륨 일련 번호: 1CCB-9DB3\n",
      "\n",
      " C:\\Users\\user\\Desktop\\이수안컴퓨터연구소Lectures\\모듈과 패키지 디렉터리\n",
      "\n",
      "2022-01-11  오후 03:11    <DIR>          .\n",
      "2022-01-11  오후 03:11    <DIR>          ..\n",
      "2022-01-11  오전 09:33    <DIR>          .ipynb_checkpoints\n",
      "2022-01-11  오후 03:11               148 Module.py\n",
      "2022-01-11  오후 03:11             3,467 Module_And_Package.ipynb\n",
      "               2개 파일               3,615 바이트\n",
      "               3개 디렉터리  418,449,661,952 바이트 남음\n"
     ]
    }
   ],
   "source": [
    "ls"
   ]
  },
  {
   "cell_type": "code",
   "execution_count": null,
   "id": "efaa2515",
   "metadata": {},
   "outputs": [],
   "source": [
    "# %load Module.py\n",
    "def func1():\n",
    "    print(\"Module.py : func1()\")\n",
    "\n",
    "def func2():\n",
    "    print(\"Module.py : func2()\")\n",
    "\n",
    "def func3():\n",
    "    print(\"Module.py : func3()\")\n"
   ]
  },
  {
   "cell_type": "code",
   "execution_count": 8,
   "id": "17de104a",
   "metadata": {},
   "outputs": [],
   "source": [
    "%run Module.py"
   ]
  },
  {
   "cell_type": "code",
   "execution_count": 10,
   "id": "3941bd1e",
   "metadata": {},
   "outputs": [
    {
     "name": "stdout",
     "output_type": "stream",
     "text": [
      "Module.py : func1()\n",
      "Module.py : func2()\n",
      "Module.py : func3()\n"
     ]
    }
   ],
   "source": [
    "import Module\n",
    "\n",
    "Module.func1()\n",
    "Module.func2()\n",
    "Module.func3()"
   ]
  },
  {
   "cell_type": "code",
   "execution_count": 11,
   "id": "08f969e7",
   "metadata": {},
   "outputs": [
    {
     "name": "stdout",
     "output_type": "stream",
     "text": [
      "Module.py : func1()\n",
      "Module.py : func2()\n",
      "Module.py : func3()\n"
     ]
    }
   ],
   "source": [
    "from Module import *\n",
    "\n",
    "func1()\n",
    "func2()\n",
    "func3()"
   ]
  },
  {
   "cell_type": "code",
   "execution_count": 15,
   "id": "dae068d5",
   "metadata": {},
   "outputs": [],
   "source": [
    "# LAB. 계산기 모듈 만들기\n",
    "#     사용자 정의 모듈을 이용하여 계산기에 필요한 기능들로 모듈 만들기"
   ]
  },
  {
   "cell_type": "code",
   "execution_count": 16,
   "id": "c77fb3dc",
   "metadata": {},
   "outputs": [
    {
     "name": "stdout",
     "output_type": "stream",
     "text": [
      "Writing Calculator_user.py\n"
     ]
    }
   ],
   "source": [
    "%%writefile Calculator_user.py\n",
    "\n",
    "def add_cal(val1, val2):\n",
    "    return val1 + val2\n",
    "\n",
    "def min_cal(val1, val2):\n",
    "    return val1 - val2\n",
    "\n",
    "def mul_cal(val1, val2):\n",
    "    return val1 * val2\n",
    "\n",
    "def div_cal(val1, val2):\n",
    "    return val1 / val2\n"
   ]
  },
  {
   "cell_type": "code",
   "execution_count": 17,
   "id": "d8c2165b",
   "metadata": {},
   "outputs": [
    {
     "name": "stdout",
     "output_type": "stream",
     "text": [
      " C 드라이브의 볼륨에는 이름이 없습니다.\n",
      " 볼륨 일련 번호: 1CCB-9DB3\n",
      "\n",
      " C:\\Users\\user\\Desktop\\이수안컴퓨터연구소Lectures\\모듈과 패키지 디렉터리\n",
      "\n",
      "2022-01-11  오후 03:20    <DIR>          .\n",
      "2022-01-11  오후 03:20    <DIR>          ..\n",
      "2022-01-11  오전 09:33    <DIR>          .ipynb_checkpoints\n",
      "2022-01-11  오후 03:13    <DIR>          __pycache__\n",
      "2022-01-11  오후 03:20               208 Calculator_user.py\n",
      "2022-01-11  오후 03:11               148 Module.py\n",
      "2022-01-11  오후 03:19             6,825 Module_And_Package.ipynb\n",
      "               3개 파일               7,181 바이트\n",
      "               4개 디렉터리  418,444,820,480 바이트 남음\n"
     ]
    }
   ],
   "source": [
    "ls"
   ]
  },
  {
   "cell_type": "code",
   "execution_count": 18,
   "id": "11f76ce0",
   "metadata": {},
   "outputs": [
    {
     "name": "stdout",
     "output_type": "stream",
     "text": [
      "3   -1   12   0.8333333333333334\n"
     ]
    }
   ],
   "source": [
    "import Calculator_user as cal_u\n",
    "\n",
    "prac1 = cal_u.add_cal(1, 2)\n",
    "prac2 = cal_u.min_cal(1, 2)\n",
    "prac3 = cal_u.mul_cal(3, 4)\n",
    "prac4 = cal_u.div_cal(5, 6)\n",
    "\n",
    "print(prac1, ' ', prac2, ' ', prac3, ' ', prac4)"
   ]
  },
  {
   "cell_type": "code",
   "execution_count": 19,
   "id": "2aa31100",
   "metadata": {},
   "outputs": [
    {
     "data": {
      "text/plain": [
       "3"
      ]
     },
     "execution_count": 19,
     "metadata": {},
     "output_type": "execute_result"
    }
   ],
   "source": [
    "from Calculator_user import  *\n",
    "\n",
    "add_cal(1, 2)"
   ]
  },
  {
   "cell_type": "code",
   "execution_count": 20,
   "id": "f6f3d004",
   "metadata": {},
   "outputs": [],
   "source": [
    "# Python 표준 모듈\n",
    "# Python에서 기본으로 내장된 유용한 속성과 함수들"
   ]
  },
  {
   "cell_type": "code",
   "execution_count": 22,
   "id": "5d6eba00",
   "metadata": {},
   "outputs": [
    {
     "name": "stdout",
     "output_type": "stream",
     "text": [
      "('_abc', '_ast', '_bisect', '_blake2', '_codecs', '_codecs_cn', '_codecs_hk', '_codecs_iso2022', '_codecs_jp', '_codecs_kr', '_codecs_tw', '_collections', '_contextvars', '_csv', '_datetime', '_functools', '_heapq', '_imp', '_io', '_json', '_locale', '_lsprof', '_md5', '_multibytecodec', '_opcode', '_operator', '_peg_parser', '_pickle', '_random', '_sha1', '_sha256', '_sha3', '_sha512', '_signal', '_sre', '_stat', '_statistics', '_string', '_struct', '_symtable', '_thread', '_tracemalloc', '_warnings', '_weakref', '_winapi', '_xxsubinterpreters', 'array', 'atexit', 'audioop', 'binascii', 'builtins', 'cmath', 'errno', 'faulthandler', 'gc', 'itertools', 'marshal', 'math', 'mmap', 'msvcrt', 'nt', 'parser', 'sys', 'time', 'winreg', 'xxsubtype', 'zlib')\n"
     ]
    }
   ],
   "source": [
    "# Python 표준 모듈 종류\n",
    "import sys\n",
    "print(sys.builtin_module_names)"
   ]
  },
  {
   "cell_type": "code",
   "execution_count": 24,
   "id": "fc1bc39f",
   "metadata": {},
   "outputs": [
    {
     "name": "stdout",
     "output_type": "stream",
     "text": [
      "['ArithmeticError', 'AssertionError', 'AttributeError', 'BaseException', 'BlockingIOError', 'BrokenPipeError', 'BufferError', 'BytesWarning', 'ChildProcessError', 'ConnectionAbortedError', 'ConnectionError', 'ConnectionRefusedError', 'ConnectionResetError', 'DeprecationWarning', 'EOFError', 'Ellipsis', 'EnvironmentError', 'Exception', 'False', 'FileExistsError', 'FileNotFoundError', 'FloatingPointError', 'FutureWarning', 'GeneratorExit', 'IOError', 'ImportError', 'ImportWarning', 'IndentationError', 'IndexError', 'InterruptedError', 'IsADirectoryError', 'KeyError', 'KeyboardInterrupt', 'LookupError', 'MemoryError', 'ModuleNotFoundError', 'NameError', 'None', 'NotADirectoryError', 'NotImplemented', 'NotImplementedError', 'OSError', 'OverflowError', 'PendingDeprecationWarning', 'PermissionError', 'ProcessLookupError', 'RecursionError', 'ReferenceError', 'ResourceWarning', 'RuntimeError', 'RuntimeWarning', 'StopAsyncIteration', 'StopIteration', 'SyntaxError', 'SyntaxWarning', 'SystemError', 'SystemExit', 'TabError', 'TimeoutError', 'True', 'TypeError', 'UnboundLocalError', 'UnicodeDecodeError', 'UnicodeEncodeError', 'UnicodeError', 'UnicodeTranslateError', 'UnicodeWarning', 'UserWarning', 'ValueError', 'Warning', 'WindowsError', 'ZeroDivisionError', '__IPYTHON__', '__build_class__', '__debug__', '__doc__', '__import__', '__loader__', '__name__', '__package__', '__spec__', 'abs', 'all', 'any', 'ascii', 'bin', 'bool', 'breakpoint', 'bytearray', 'bytes', 'callable', 'chr', 'classmethod', 'compile', 'complex', 'copyright', 'credits', 'delattr', 'dict', 'dir', 'display', 'divmod', 'enumerate', 'eval', 'exec', 'execfile', 'filter', 'float', 'format', 'frozenset', 'get_ipython', 'getattr', 'globals', 'hasattr', 'hash', 'help', 'hex', 'id', 'input', 'int', 'isinstance', 'issubclass', 'iter', 'len', 'license', 'list', 'locals', 'map', 'max', 'memoryview', 'min', 'next', 'object', 'oct', 'open', 'ord', 'pow', 'print', 'property', 'range', 'repr', 'reversed', 'round', 'runfile', 'set', 'setattr', 'slice', 'sorted', 'staticmethod', 'str', 'sum', 'super', 'tuple', 'type', 'vars', 'zip']\n"
     ]
    }
   ],
   "source": [
    "print(dir(__builtins__))"
   ]
  },
  {
   "cell_type": "code",
   "execution_count": 25,
   "id": "52c92aee",
   "metadata": {},
   "outputs": [],
   "source": [
    "# 시간 모듈(datetime)\n",
    "# 운영체제가 제공하는 시간 기능을 파이썬에서 사용할 수 있도록 제공되는 모듈\n",
    "# 시간 모듈을 사용하기 위해서는 import time이 필요"
   ]
  },
  {
   "cell_type": "code",
   "execution_count": 26,
   "id": "24b07917",
   "metadata": {},
   "outputs": [
    {
     "name": "stdout",
     "output_type": "stream",
     "text": [
      "['_STRUCT_TM_ITEMS', '__doc__', '__loader__', '__name__', '__package__', '__spec__', 'altzone', 'asctime', 'ctime', 'daylight', 'get_clock_info', 'gmtime', 'localtime', 'mktime', 'monotonic', 'monotonic_ns', 'perf_counter', 'perf_counter_ns', 'process_time', 'process_time_ns', 'sleep', 'strftime', 'strptime', 'struct_time', 'thread_time', 'thread_time_ns', 'time', 'time_ns', 'timezone', 'tzname']\n"
     ]
    }
   ],
   "source": [
    "import time\n",
    "print(dir(time))"
   ]
  },
  {
   "cell_type": "code",
   "execution_count": 36,
   "id": "1713aba9",
   "metadata": {},
   "outputs": [
    {
     "name": "stdout",
     "output_type": "stream",
     "text": [
      "time.struct_time(tm_year=2022, tm_mon=1, tm_mday=11, tm_hour=6, tm_min=35, tm_sec=40, tm_wday=1, tm_yday=11, tm_isdst=0)\n",
      "year :  2022  month :  1  day :  11\n",
      "hour :  6  min :  35  sec :  40\n"
     ]
    }
   ],
   "source": [
    "# 시간모듈 time 예제\n",
    "import time\n",
    "\n",
    "now = time.gmtime(time.time())\n",
    "print(now)\n",
    "\n",
    "year = str(now.tm_year)\n",
    "month = str(now.tm_mon)\n",
    "day = str(now.tm_mday)\n",
    "\n",
    "print(\"year : \", year, \" month : \", month, \" day : \", day)\n",
    "\n",
    "hour = str(now.tm_hour)\n",
    "min_ = str(now.tm_min)\n",
    "sec = str(now.tm_sec)\n",
    "\n",
    "print(\"hour : \", hour, \" min : \", min_, \" sec : \", sec)"
   ]
  },
  {
   "cell_type": "code",
   "execution_count": 46,
   "id": "d4253d40",
   "metadata": {},
   "outputs": [
    {
     "name": "stdout",
     "output_type": "stream",
     "text": [
      "<class 'datetime.date'>\n",
      "2000-01-01\n",
      "2010-01-01\n",
      "2022-01-11\n",
      "['__add__', '__class__', '__delattr__', '__dir__', '__doc__', '__eq__', '__format__', '__ge__', '__getattribute__', '__gt__', '__hash__', '__init__', '__init_subclass__', '__le__', '__lt__', '__ne__', '__new__', '__radd__', '__reduce__', '__reduce_ex__', '__repr__', '__rsub__', '__setattr__', '__sizeof__', '__str__', '__sub__', '__subclasshook__', 'ctime', 'day', 'fromisocalendar', 'fromisoformat', 'fromordinal', 'fromtimestamp', 'isocalendar', 'isoformat', 'isoweekday', 'max', 'min', 'month', 'replace', 'resolution', 'strftime', 'timetuple', 'today', 'toordinal', 'weekday', 'year']\n",
      "year :  2022  month :  1  day :  11\n"
     ]
    }
   ],
   "source": [
    "# 날짜시간 모듈 datetime의 date 클래스 예제\n",
    "from datetime import date\n",
    "\n",
    "print(date)\n",
    "print(date(2000, 1, 1))\n",
    "print(date(year = 2010, month =1, day = 1))\n",
    "print(date.today())\n",
    "\n",
    "print(dir(date))\n",
    "\n",
    "today = date.today()\n",
    "year = today.year\n",
    "month = today.month\n",
    "day = today.day\n",
    "# year, month, day -> integer value로 들어온다.\n",
    "\n",
    "print(\"year : \", str(year), \" month : \", str(month), \" day : \", str(day))"
   ]
  },
  {
   "cell_type": "code",
   "execution_count": 56,
   "id": "baf80397",
   "metadata": {},
   "outputs": [
    {
     "name": "stdout",
     "output_type": "stream",
     "text": [
      "<class 'datetime.time'>\n",
      "12:00:00\n",
      "14:30:00\n",
      "['__class__', '__delattr__', '__dir__', '__doc__', '__eq__', '__format__', '__ge__', '__getattribute__', '__gt__', '__hash__', '__init__', '__init_subclass__', '__le__', '__lt__', '__ne__', '__new__', '__reduce__', '__reduce_ex__', '__repr__', '__setattr__', '__sizeof__', '__str__', '__subclasshook__', 'dst', 'fold', 'fromisoformat', 'hour', 'isoformat', 'max', 'microsecond', 'min', 'minute', 'replace', 'resolution', 'second', 'strftime', 'tzinfo', 'tzname', 'utcoffset']\n"
     ]
    }
   ],
   "source": [
    "# 날짜시간 모듈 datetime의 time class 예제\n",
    "from datetime import time\n",
    "\n",
    "print(time)\n",
    "print(time(12, 0))\n",
    "print(time(14, 30))\n",
    "\n",
    "print(dir(time))"
   ]
  },
  {
   "cell_type": "code",
   "execution_count": 53,
   "id": "5685c829",
   "metadata": {},
   "outputs": [
    {
     "data": {
      "text/plain": [
       "1641883646.5495183"
      ]
     },
     "execution_count": 53,
     "metadata": {},
     "output_type": "execute_result"
    }
   ],
   "source": [
    "import time\n",
    "\n",
    "time.time()"
   ]
  },
  {
   "cell_type": "code",
   "execution_count": 76,
   "id": "03a93449",
   "metadata": {},
   "outputs": [
    {
     "name": "stdout",
     "output_type": "stream",
     "text": [
      "<class 'datetime.datetime'>\n",
      "['__add__', '__class__', '__delattr__', '__dir__', '__doc__', '__eq__', '__format__', '__ge__', '__getattribute__', '__gt__', '__hash__', '__init__', '__init_subclass__', '__le__', '__lt__', '__ne__', '__new__', '__radd__', '__reduce__', '__reduce_ex__', '__repr__', '__rsub__', '__setattr__', '__sizeof__', '__str__', '__sub__', '__subclasshook__', 'astimezone', 'combine', 'ctime', 'date', 'day', 'dst', 'fold', 'fromisocalendar', 'fromisoformat', 'fromordinal', 'fromtimestamp', 'hour', 'isocalendar', 'isoformat', 'isoweekday', 'max', 'microsecond', 'min', 'minute', 'month', 'now', 'replace', 'resolution', 'second', 'strftime', 'strptime', 'time', 'timestamp', 'timetuple', 'timetz', 'today', 'toordinal', 'tzinfo', 'tzname', 'utcfromtimestamp', 'utcnow', 'utcoffset', 'utctimetuple', 'weekday', 'year']\n",
      "8854\n",
      "<class 'datetime.timedelta'>\n"
     ]
    }
   ],
   "source": [
    "# Lab 태어난지 몇일이 되었는가?\n",
    "#     태어난지 얼마나 지났는지 계산하기\n",
    "\n",
    "from datetime import datetime\n",
    "\n",
    "print(datetime)\n",
    "\n",
    "print(dir(datetime))\n",
    "\n",
    "birthday = datetime(1997, 10, 15)\n",
    "now_day = datetime.today()\n",
    "\n",
    "days_lived = now_day - birthday\n",
    "\n",
    "print(days_lived.days)\n",
    "print(type(days_lived))"
   ]
  },
  {
   "cell_type": "code",
   "execution_count": 79,
   "id": "67aa83ae",
   "metadata": {},
   "outputs": [
    {
     "name": "stdout",
     "output_type": "stream",
     "text": [
      "['__doc__', '__loader__', '__name__', '__package__', '__spec__', 'acos', 'acosh', 'asin', 'asinh', 'atan', 'atan2', 'atanh', 'ceil', 'comb', 'copysign', 'cos', 'cosh', 'degrees', 'dist', 'e', 'erf', 'erfc', 'exp', 'expm1', 'fabs', 'factorial', 'floor', 'fmod', 'frexp', 'fsum', 'gamma', 'gcd', 'hypot', 'inf', 'isclose', 'isfinite', 'isinf', 'isnan', 'isqrt', 'lcm', 'ldexp', 'lgamma', 'log', 'log10', 'log1p', 'log2', 'modf', 'nan', 'nextafter', 'perm', 'pi', 'pow', 'prod', 'radians', 'remainder', 'sin', 'sinh', 'sqrt', 'tan', 'tanh', 'tau', 'trunc', 'ulp']\n"
     ]
    }
   ],
   "source": [
    "# 수학 모듈(math)\n",
    "#     파이썬에서 수학에 필요한 math module 제공\n",
    "\n",
    "import math\n",
    "\n",
    "print(dir(math))"
   ]
  },
  {
   "cell_type": "code",
   "execution_count": 83,
   "id": "582187ca",
   "metadata": {},
   "outputs": [
    {
     "name": "stdout",
     "output_type": "stream",
     "text": [
      "6\n",
      "12\n",
      "3\n",
      "4\n"
     ]
    }
   ],
   "source": [
    "import math\n",
    "\n",
    "print(math.factorial(3))\n",
    "print(math.gcd(12, 24))\n",
    "print(math.floor(math.pi))\n",
    "print(math.ceil(math.pi))"
   ]
  },
  {
   "cell_type": "code",
   "execution_count": 84,
   "id": "50eb0652",
   "metadata": {},
   "outputs": [
    {
     "name": "stdout",
     "output_type": "stream",
     "text": [
      "Help on built-in function floor in module math:\n",
      "\n",
      "floor(x, /)\n",
      "    Return the floor of x as an Integral.\n",
      "    \n",
      "    This is the largest integer <= x.\n",
      "\n"
     ]
    }
   ],
   "source": [
    "help(math.floor)"
   ]
  },
  {
   "cell_type": "code",
   "execution_count": 85,
   "id": "4f527276",
   "metadata": {},
   "outputs": [],
   "source": [
    "# 순열과 조합 모듈(itertools)\n",
    "# itertools 모듈에서 곱집합, 순열, 조합 등을 구하는 함수 제공\n",
    "#     itertools.product(seq1, ...) : sequence의 곱집합\n",
    "#     itertools.permutations(p, r) : p sequence의 요소 r개를 나열하는 순열\n",
    "#     itertools.combinations(p, r) : p sequence의 요소 r개를 선택하는 조합\n",
    "#     itertools.combinations_with_replacement(p, r) : p sequence의 요소 r개를 주옥 허용해 선택하는 조합"
   ]
  },
  {
   "cell_type": "code",
   "execution_count": 96,
   "id": "9b5fa2c7",
   "metadata": {},
   "outputs": [
    {
     "name": "stdout",
     "output_type": "stream",
     "text": [
      "[(1, 4), (1, 2), (1, 1), (1, 8), (1, 5), (4, 4), (4, 2), (4, 1), (4, 8), (4, 5), (6, 4), (6, 2), (6, 1), (6, 8), (6, 5), (9, 4), (9, 2), (9, 1), (9, 8), (9, 5), (3, 4), (3, 2), (3, 1), (3, 8), (3, 5)]\n",
      "[(1, 4), (1, 6), (1, 9), (1, 3), (4, 1), (4, 6), (4, 9), (4, 3), (6, 1), (6, 4), (6, 9), (6, 3), (9, 1), (9, 4), (9, 6), (9, 3), (3, 1), (3, 4), (3, 6), (3, 9)]\n",
      "[(1, 4), (1, 6), (1, 9), (1, 3), (4, 6), (4, 9), (4, 3), (6, 9), (6, 3), (9, 3)]\n",
      "[(1, 1), (1, 4), (1, 6), (1, 9), (1, 3), (4, 4), (4, 6), (4, 9), (4, 3), (6, 6), (6, 9), (6, 3), (9, 9), (9, 3), (3, 3)]\n"
     ]
    }
   ],
   "source": [
    "import itertools\n",
    "\n",
    "seq1 = [1, 4, 6, 9, 3]\n",
    "seq2 = [4, 2, 1, 8, 5]\n",
    "\n",
    "seq3 = list(itertools.product(seq1, seq2))\n",
    "\n",
    "print(seq3)\n",
    "\n",
    "seq4 = list(itertools.permutations(seq1, 2))\n",
    "\n",
    "print(seq4)\n",
    "\n",
    "seq5 = list(itertools.combinations(seq1, 2))\n",
    "\n",
    "print(seq5)\n",
    "\n",
    "seq6 = list(itertools.combinations_with_replacement(seq1, 2))\n",
    "\n",
    "print(seq6)"
   ]
  },
  {
   "cell_type": "code",
   "execution_count": 90,
   "id": "c7f4bf46",
   "metadata": {},
   "outputs": [
    {
     "name": "stdout",
     "output_type": "stream",
     "text": [
      "<module 'itertools' (built-in)>\n",
      "['__doc__', '__loader__', '__name__', '__package__', '__spec__', '_grouper', '_tee', '_tee_dataobject', 'accumulate', 'chain', 'combinations', 'combinations_with_replacement', 'compress', 'count', 'cycle', 'dropwhile', 'filterfalse', 'groupby', 'islice', 'permutations', 'product', 'repeat', 'starmap', 'takewhile', 'tee', 'zip_longest']\n"
     ]
    }
   ],
   "source": [
    "print(itertools)\n",
    "print(dir(itertools))"
   ]
  },
  {
   "cell_type": "code",
   "execution_count": 97,
   "id": "fa0373ef",
   "metadata": {},
   "outputs": [],
   "source": [
    "# 통계 모듈\n",
    "# statistics 모듈에서는 산술평균, 표준편차 등 통계에 필요한 계산 관련 함수들을 제공한다.\n",
    "#     statistics.median(seq) : sequence의 중앙값\n",
    "#     statistics.mean(seq) : sequence의 산술평균\n",
    "#     statistics.harmonic_mean(seq) : sequence의 조화 평균\n",
    "#     statistics.stdev(seq) : sequence의 표본 표준편차\n",
    "#     statistics.variance(seq) : sequence의 표본 분산"
   ]
  },
  {
   "cell_type": "code",
   "execution_count": 101,
   "id": "63af89ba",
   "metadata": {},
   "outputs": [
    {
     "name": "stdout",
     "output_type": "stream",
     "text": [
      "51.875 51.875 40.46306886002754 26.867066935456236 721.8392857142857\n"
     ]
    }
   ],
   "source": [
    "import statistics\n",
    "values = [34, 23, 51, 74, 88, 35, 85, 25]\n",
    "\n",
    "med_val = statistics.median(values)\n",
    "mean_val = statistics.mean(values)\n",
    "har_mean_val = statistics.harmonic_mean(values)\n",
    "stdev_val = statistics.stdev(values)\n",
    "var_val = statistics.variance(values)\n",
    "\n",
    "print(mean_val, mean_val, har_mean_val, stdev_val, var_val)"
   ]
  },
  {
   "cell_type": "code",
   "execution_count": 102,
   "id": "7c4a7fb7",
   "metadata": {},
   "outputs": [],
   "source": [
    "# Random 모듈\n",
    "#     random.random() : 0.0 ~ 1.0 미만의 실수값 반환\n",
    "#     random.randint(1, 10) : 1 ~ 10 사이의 정수 반환\n",
    "#     random.randrange(0, 10, 2) : 0 ~ 10 사이의 2의 배수만 반환\n",
    "#     random.choice() : 자료형 변수에서 임의의 값 반환\n",
    "#     random.sample() : 자료형 변수에서 필요한 개수만큼 반환\n",
    "#     random.shuffle() : 자료형 변수 내용을 랜덤으로 셔플"
   ]
  },
  {
   "cell_type": "code",
   "execution_count": 108,
   "id": "cf145638",
   "metadata": {},
   "outputs": [
    {
     "name": "stdout",
     "output_type": "stream",
     "text": [
      "0.2792818001707176\n",
      "6\n",
      "1\n",
      "14\n",
      "[14, 4]\n",
      "[9, 1, 4, 14, 7, 5, 3]\n"
     ]
    }
   ],
   "source": [
    "import random\n",
    "\n",
    "print(random.random())\n",
    "print(random.randint(1, 10))\n",
    "print(random.randrange(1, 10, 3))\n",
    "\n",
    "temp_list = [1, 3, 4, 5, 7, 9, 14]\n",
    "\n",
    "print(random.choice(temp_list))\n",
    "print(random.sample(temp_list, 2))\n",
    "random.shuffle(temp_list)\n",
    "print(temp_list)"
   ]
  },
  {
   "cell_type": "code",
   "execution_count": 109,
   "id": "41f2e84f",
   "metadata": {},
   "outputs": [],
   "source": [
    "# Namespace 모듈\n",
    "# 모듈 호출의 범위를 지정\n",
    "# 모듈 이름에 alias를 생성하여 모듈의 이름을 바꿔 사용"
   ]
  },
  {
   "cell_type": "code",
   "execution_count": 110,
   "id": "ffd5380b",
   "metadata": {},
   "outputs": [
    {
     "name": "stdout",
     "output_type": "stream",
     "text": [
      "0.4620869379883209\n"
     ]
    }
   ],
   "source": [
    "import random as rd\n",
    "\n",
    "print(rd.random())"
   ]
  },
  {
   "cell_type": "code",
   "execution_count": 111,
   "id": "9c5670c1",
   "metadata": {},
   "outputs": [
    {
     "name": "stdout",
     "output_type": "stream",
     "text": [
      "0.9398897023237758\n",
      "7\n"
     ]
    }
   ],
   "source": [
    "#     from 구문을 사용하여 모듈에서 특정 함수 또는 클래스만 호출\n",
    "from random import random, randrange\n",
    "\n",
    "print(random())\n",
    "print(randrange(0, 10))"
   ]
  },
  {
   "cell_type": "code",
   "execution_count": null,
   "id": "71ec0447",
   "metadata": {},
   "outputs": [],
   "source": []
  },
  {
   "cell_type": "code",
   "execution_count": 112,
   "id": "3a9bcb32",
   "metadata": {},
   "outputs": [],
   "source": [
    "# Package\n",
    "#     Package는 모듈의 집합이다.\n",
    "#     패키지 안에 여러 모듈이 존재한다.\n",
    "#     모듈을 주제별로 분리할 때 사용한다.\n",
    "#     Directory와 같이 계층적인 구조로 관리\n",
    "#     모듈들이 서로 포함관계를 가지며 거대한 패키지를 가짐\n",
    "#     파이썬에서는 패키지가 하나의 라이브러리이다."
   ]
  },
  {
   "cell_type": "code",
   "execution_count": 113,
   "id": "06bda00b",
   "metadata": {},
   "outputs": [],
   "source": [
    "# Package 구조의 예제\n",
    "#     Package\n",
    "#     -> __init__.py\n",
    "#     -> sub_package1 : __init__.py, sub1_module1.py, sub1_module2.py\n",
    "#     -> sub_package2 : __init__.py, sub2_module1.py, sub2_module2.py\n",
    "#     -> sub_package3 : __init__.py, sub3_module1.py, sub3_module2.py"
   ]
  },
  {
   "cell_type": "code",
   "execution_count": 114,
   "id": "12d1547f",
   "metadata": {},
   "outputs": [
    {
     "name": "stdout",
     "output_type": "stream",
     "text": [
      " C 드라이브의 볼륨에는 이름이 없습니다.\n",
      " 볼륨 일련 번호: 1CCB-9DB3\n",
      "\n",
      " C:\\Users\\user\\Desktop\\이수안컴퓨터연구소Lectures\\모듈과 패키지 디렉터리\n",
      "\n",
      "2022-01-11  오후 04:55    <DIR>          .\n",
      "2022-01-11  오후 04:55    <DIR>          ..\n",
      "2022-01-11  오전 09:33    <DIR>          .ipynb_checkpoints\n",
      "2022-01-11  오후 03:22    <DIR>          __pycache__\n",
      "2022-01-11  오후 03:20               208 Calculator_user.py\n",
      "2022-01-11  오후 03:11               148 Module.py\n",
      "2022-01-11  오후 04:55            28,154 Module_And_Package.ipynb\n",
      "               3개 파일              28,510 바이트\n",
      "               4개 디렉터리  418,437,099,520 바이트 남음\n"
     ]
    }
   ],
   "source": [
    "ls"
   ]
  },
  {
   "cell_type": "code",
   "execution_count": 115,
   "id": "3c4429ed",
   "metadata": {},
   "outputs": [],
   "source": [
    "!mkdir package"
   ]
  },
  {
   "cell_type": "code",
   "execution_count": 118,
   "id": "9d0ee455",
   "metadata": {},
   "outputs": [],
   "source": [
    "!mkdir package\\sub_package1\n",
    "!mkdir package\\sub_package2\n",
    "!mkdir package\\sub_package3"
   ]
  },
  {
   "cell_type": "code",
   "execution_count": 119,
   "id": "57e4289a",
   "metadata": {},
   "outputs": [
    {
     "name": "stdout",
     "output_type": "stream",
     "text": [
      "Writing package/sub_package1/sub1_module1.py\n"
     ]
    }
   ],
   "source": [
    "%%writefile package/sub_package1/sub1_module1.py\n",
    "\n",
    "def print_module():\n",
    "    print(\"sub_package1 sub_module1\")"
   ]
  },
  {
   "cell_type": "code",
   "execution_count": 120,
   "id": "679f3da6",
   "metadata": {},
   "outputs": [
    {
     "name": "stdout",
     "output_type": "stream",
     "text": [
      "Writing package/sub_package1/sub1_module2.py\n"
     ]
    }
   ],
   "source": [
    "%%writefile package/sub_package1/sub1_module2.py\n",
    "\n",
    "def print_module():\n",
    "    print(\"sub_package1 sub_module2\")"
   ]
  },
  {
   "cell_type": "code",
   "execution_count": 121,
   "id": "893923aa",
   "metadata": {},
   "outputs": [
    {
     "name": "stdout",
     "output_type": "stream",
     "text": [
      "Writing package/sub_package2/sub2_module1.py\n"
     ]
    }
   ],
   "source": [
    "%%writefile package/sub_package2/sub2_module1.py\n",
    "\n",
    "def print_module():\n",
    "    print(\"sub_package2 sub_module1\")"
   ]
  },
  {
   "cell_type": "code",
   "execution_count": 130,
   "id": "87354421",
   "metadata": {},
   "outputs": [
    {
     "name": "stdout",
     "output_type": "stream",
     "text": [
      "Writing package/sub_package2/sub2_module2.py\n"
     ]
    }
   ],
   "source": [
    "%%writefile package/sub_package2/sub2_module2.py\n",
    "\n",
    "def print_module():\n",
    "    print(\"sub_package2 sub_module2\")"
   ]
  },
  {
   "cell_type": "code",
   "execution_count": 131,
   "id": "c307bee8",
   "metadata": {},
   "outputs": [
    {
     "name": "stdout",
     "output_type": "stream",
     "text": [
      "Writing package/sub_package3/sub3_module1.py\n"
     ]
    }
   ],
   "source": [
    "%%writefile package/sub_package3/sub3_module1.py\n",
    "\n",
    "def print_module():\n",
    "    print(\"sub_package3 sub_module1\")"
   ]
  },
  {
   "cell_type": "code",
   "execution_count": 132,
   "id": "464b00c8",
   "metadata": {},
   "outputs": [
    {
     "name": "stdout",
     "output_type": "stream",
     "text": [
      "Writing package/sub_package3/sub3_module2.py\n"
     ]
    }
   ],
   "source": [
    "%%writefile package/sub_package3/sub3_module2.py\n",
    "\n",
    "def print_module():\n",
    "    print(\"sub_package3 sub_module2\")"
   ]
  },
  {
   "cell_type": "code",
   "execution_count": 126,
   "id": "21c24415",
   "metadata": {},
   "outputs": [
    {
     "name": "stdout",
     "output_type": "stream",
     "text": [
      "sub_package1 sub_module1\n",
      "sub_package1 sub_module2\n"
     ]
    }
   ],
   "source": [
    "from package.sub_package1 import sub1_module1, sub1_module2\n",
    "\n",
    "sub1_module1.print_module()\n",
    "sub1_module2.print_module()"
   ]
  },
  {
   "cell_type": "code",
   "execution_count": 136,
   "id": "92602b52",
   "metadata": {},
   "outputs": [
    {
     "name": "stdout",
     "output_type": "stream",
     "text": [
      "sub_package2 sub_module1\n",
      "sub_package2 sub_module2\n"
     ]
    }
   ],
   "source": [
    "from package.sub_package2 import sub2_module1, sub2_module2\n",
    "\n",
    "sub2_module1.print_module()\n",
    "sub2_module2.print_module()"
   ]
  },
  {
   "cell_type": "code",
   "execution_count": 137,
   "id": "3094048f",
   "metadata": {},
   "outputs": [
    {
     "name": "stdout",
     "output_type": "stream",
     "text": [
      "sub_package3 sub_module1\n",
      "sub_package3 sub_module2\n"
     ]
    }
   ],
   "source": [
    "from package.sub_package3 import sub3_module1, sub3_module2\n",
    "\n",
    "sub3_module1.print_module()\n",
    "sub3_module2.print_module()"
   ]
  },
  {
   "cell_type": "code",
   "execution_count": 141,
   "id": "62e8e941",
   "metadata": {},
   "outputs": [],
   "source": [
    "# Package 구성 file\n",
    "#     __init__.py\n",
    "#     파이썬 package를 선언하는 초기화 스크립트\n",
    "#     파이썬에 대한 메타데이터에 해당하는 내용 포함\n",
    "#     파이썬의 거의 모든 라이브러리에 포함되어 있음\n",
    "#     python 3.3 ver부터는 __init__.py file이 없더도 package로 인식함\n",
    "#     python 3.3 ver 밑의 하위 버전과 호환을 위해 __init__.py file을 생성해 주는 것이 권장됨\n",
    "#     __all__이라는 리스트형의 변수에 하위 패키지의 이름을 작성한다.\n",
    "#     __all__ = ['sub_package1', 'sub_package2', 'sub_package3']"
   ]
  },
  {
   "cell_type": "code",
   "execution_count": 142,
   "id": "d5793915",
   "metadata": {},
   "outputs": [
    {
     "name": "stdout",
     "output_type": "stream",
     "text": [
      " C 드라이브의 볼륨에는 이름이 없습니다.\n",
      " 볼륨 일련 번호: 1CCB-9DB3\n",
      "\n",
      " C:\\Users\\user\\Desktop\\이수안컴퓨터연구소Lectures\\모듈과 패키지 디렉터리\n",
      "\n",
      "2022-01-11  오후 06:05    <DIR>          .\n",
      "2022-01-11  오후 06:05    <DIR>          ..\n",
      "2022-01-11  오전 09:33    <DIR>          .ipynb_checkpoints\n",
      "2022-01-11  오후 03:22    <DIR>          __pycache__\n",
      "2022-01-11  오후 03:20               208 Calculator_user.py\n",
      "2022-01-11  오후 03:11               148 Module.py\n",
      "2022-01-11  오후 06:05            34,683 Module_And_Package.ipynb\n",
      "2022-01-11  오후 04:57    <DIR>          package\n",
      "2022-01-11  오후 05:14                24 prackage_practice.py\n",
      "               4개 파일              35,063 바이트\n",
      "               5개 디렉터리  418,429,386,752 바이트 남음\n"
     ]
    }
   ],
   "source": [
    "ls"
   ]
  },
  {
   "cell_type": "code",
   "execution_count": 143,
   "id": "7ab07dd7",
   "metadata": {},
   "outputs": [
    {
     "name": "stdout",
     "output_type": "stream",
     "text": [
      "Writing package/__init__.py\n"
     ]
    }
   ],
   "source": [
    "%%writefile package/__init__.py\n",
    "\n",
    "__all__ = ['sub_package1', 'sub_package2', 'sub_package3']"
   ]
  },
  {
   "cell_type": "code",
   "execution_count": 144,
   "id": "9c4ab187",
   "metadata": {},
   "outputs": [
    {
     "name": "stdout",
     "output_type": "stream",
     "text": [
      "Writing package/sub_package1/__init__.py\n"
     ]
    }
   ],
   "source": [
    "%%writefile package/sub_package1/__init__.py\n",
    "\n",
    "__all__ = ['sub1_module1', 'sub1_module2']"
   ]
  },
  {
   "cell_type": "code",
   "execution_count": 145,
   "id": "ff247f88",
   "metadata": {},
   "outputs": [
    {
     "name": "stdout",
     "output_type": "stream",
     "text": [
      "Writing package/sub_package2/__init__.py\n"
     ]
    }
   ],
   "source": [
    "%%writefile package/sub_package2/__init__.py\n",
    "\n",
    "__all__ = ['sub2_module1', 'sub2_module2']"
   ]
  },
  {
   "cell_type": "code",
   "execution_count": 146,
   "id": "d2e03c1c",
   "metadata": {},
   "outputs": [
    {
     "name": "stdout",
     "output_type": "stream",
     "text": [
      "Writing package/sub_package3/__init__.py\n"
     ]
    }
   ],
   "source": [
    "%%writefile package/sub_package3/__init__.py\n",
    "\n",
    "__all__ = ['sub3_module1', 'sub3_module2']"
   ]
  },
  {
   "cell_type": "code",
   "execution_count": 1,
   "id": "6f4ae785",
   "metadata": {},
   "outputs": [],
   "source": [
    "# __main__.py\n",
    "#     package 자체를 실행하기 위한 용도이다.\n",
    "#     package를 실행시키면 __main__.py 실행"
   ]
  },
  {
   "cell_type": "code",
   "execution_count": 2,
   "id": "fec21ea7",
   "metadata": {},
   "outputs": [
    {
     "name": "stdout",
     "output_type": "stream",
     "text": [
      "Writing package/__main__.py\n"
     ]
    }
   ],
   "source": [
    "%%writefile package/__main__.py\n",
    "from sub_package1 import *\n",
    "from sub_package2 import *\n",
    "from sub_package3 import *\n",
    "\n",
    "if __name__ == '__main__':\n",
    "    sub1_module1.print_module()\n",
    "    sub1_module2.print_module()\n",
    "    sub2_module1.print_module()\n",
    "    sub2_module2.print_module()\n",
    "    sub3_module1.print_module()\n",
    "    sub3_module2.print_module()"
   ]
  },
  {
   "cell_type": "code",
   "execution_count": 3,
   "id": "506739b6",
   "metadata": {},
   "outputs": [
    {
     "name": "stdout",
     "output_type": "stream",
     "text": [
      "sub_package1 sub_module1\n",
      "sub_package1 sub_module2\n",
      "sub_package2 sub_module1\n",
      "sub_package2 sub_module2\n",
      "sub_package3 sub_module1\n",
      "sub_package3 sub_module2\n"
     ]
    }
   ],
   "source": [
    "!python package"
   ]
  },
  {
   "cell_type": "code",
   "execution_count": null,
   "id": "f54e3e3b",
   "metadata": {},
   "outputs": [],
   "source": []
  }
 ],
 "metadata": {
  "kernelspec": {
   "display_name": "Python 3 (ipykernel)",
   "language": "python",
   "name": "python3"
  },
  "language_info": {
   "codemirror_mode": {
    "name": "ipython",
    "version": 3
   },
   "file_extension": ".py",
   "mimetype": "text/x-python",
   "name": "python",
   "nbconvert_exporter": "python",
   "pygments_lexer": "ipython3",
   "version": "3.9.7"
  }
 },
 "nbformat": 4,
 "nbformat_minor": 5
}
