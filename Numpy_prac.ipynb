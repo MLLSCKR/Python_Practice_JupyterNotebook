{
 "cells": [
  {
   "cell_type": "markdown",
   "id": "eb25dad5",
   "metadata": {},
   "source": [
    "# Numpy"
   ]
  },
  {
   "cell_type": "markdown",
   "id": "5f1fafe9",
   "metadata": {},
   "source": [
    "## Numpy 특징\n",
    "- Numerical Python의 약자\n",
    "- 고성능 과학 계산용 Package로 강력한 N차원 배열 객체\n",
    "- 범용적 데이터 처리에 사용 가능한 다차원 컨테이너\n",
    "- 정교한 브로드캐스팅 기능\n",
    "- 파이썬의 자료형 list와 비슷하지만, 더 빠르고 메모리를 효율적으로 관리\n",
    "- 반복문 없이 데이터 배열에 대한 처리를 지원하여 빠르고 편리\n",
    "- 데이터 과학 도구에 대한 생태계 핵심을 이루고 있음"
   ]
  },
  {
   "cell_type": "code",
   "execution_count": 1,
   "id": "cd328a85",
   "metadata": {},
   "outputs": [],
   "source": [
    "import numpy as np"
   ]
  },
  {
   "cell_type": "markdown",
   "id": "ee05930e",
   "metadata": {},
   "source": [
    "## 배열 생성"
   ]
  },
  {
   "cell_type": "markdown",
   "id": "0b39028d",
   "metadata": {},
   "source": [
    "### List로 배열 만들기\n",
    "1차원, 2차원, 3차원 배열 생성"
   ]
  },
  {
   "cell_type": "code",
   "execution_count": 2,
   "id": "5ddf0e41",
   "metadata": {},
   "outputs": [
    {
     "name": "stdout",
     "output_type": "stream",
     "text": [
      "[1 2 3]\n",
      "<class 'numpy.ndarray'>\n",
      "(3,)\n",
      "1 3\n"
     ]
    },
    {
     "data": {
      "text/plain": [
       "array([1, 2, 4])"
      ]
     },
     "execution_count": 2,
     "metadata": {},
     "output_type": "execute_result"
    }
   ],
   "source": [
    "a1 = np.array([1, 2, 3])\n",
    "print(a1)\n",
    "print(type(a1))\n",
    "print(a1.shape)\n",
    "print(a1[0], a1[2])\n",
    "a1[2] = 4\n",
    "a1"
   ]
  },
  {
   "cell_type": "code",
   "execution_count": 3,
   "id": "80315a5a",
   "metadata": {},
   "outputs": [
    {
     "name": "stdout",
     "output_type": "stream",
     "text": [
      "[[1 2 3]\n",
      " [4 5 6]\n",
      " [7 8 9]]\n",
      "<class 'numpy.ndarray'>\n",
      "(3, 3)\n",
      "8\n"
     ]
    },
    {
     "data": {
      "text/plain": [
       "array([[ 1, 10,  3],\n",
       "       [ 4,  5,  6],\n",
       "       [ 7,  8,  9]])"
      ]
     },
     "execution_count": 3,
     "metadata": {},
     "output_type": "execute_result"
    }
   ],
   "source": [
    "a2 = np.array([[1, 2, 3], [4, 5, 6], [7, 8, 9]])\n",
    "print(a2)\n",
    "print(type(a2))\n",
    "print(a2.shape)\n",
    "print(a2[2][1])\n",
    "a2[0][1] = 10\n",
    "a2"
   ]
  },
  {
   "cell_type": "code",
   "execution_count": 4,
   "id": "cf6bf5af",
   "metadata": {},
   "outputs": [
    {
     "name": "stdout",
     "output_type": "stream",
     "text": [
      "[[[ 1  2  3]\n",
      "  [ 4  5  6]\n",
      "  [ 7  8  9]]\n",
      "\n",
      " [[10 11 12]\n",
      "  [13 14 15]\n",
      "  [16 17 18]]\n",
      "\n",
      " [[19 20 21]\n",
      "  [22 23 24]\n",
      "  [25 26 27]]]\n",
      "<class 'numpy.ndarray'>\n",
      "(3, 3, 3)\n",
      "6\n"
     ]
    }
   ],
   "source": [
    "a3 = np.array([[[1, 2, 3], [4, 5, 6], [7, 8, 9]], [[10, 11, 12], [13, 14, 15], [16, 17, 18]], [[19, 20, 21], [22, 23, 24], [25, 26, 27]]])\n",
    "print(a3)\n",
    "print(type(a3))\n",
    "print(a3.shape)\n",
    "print(a3[0][1][2])"
   ]
  },
  {
   "cell_type": "markdown",
   "id": "8ed2642a",
   "metadata": {},
   "source": [
    "### 배열 생성 및 초기화"
   ]
  },
  {
   "cell_type": "code",
   "execution_count": 5,
   "id": "bf880bc8",
   "metadata": {},
   "outputs": [
    {
     "data": {
      "text/plain": [
       "array([0., 0., 0., 0., 0., 0., 0., 0., 0., 0.])"
      ]
     },
     "execution_count": 5,
     "metadata": {},
     "output_type": "execute_result"
    }
   ],
   "source": [
    "# zeros() : 모든 요소를 0으로 초기화\n",
    "np.zeros(10)"
   ]
  },
  {
   "cell_type": "code",
   "execution_count": 6,
   "id": "27032a64",
   "metadata": {},
   "outputs": [
    {
     "data": {
      "text/plain": [
       "array([[0., 0., 0., 0.],\n",
       "       [0., 0., 0., 0.],\n",
       "       [0., 0., 0., 0.]])"
      ]
     },
     "execution_count": 6,
     "metadata": {},
     "output_type": "execute_result"
    }
   ],
   "source": [
    "np.zeros((3, 4))"
   ]
  },
  {
   "cell_type": "code",
   "execution_count": 7,
   "id": "d1e58b35",
   "metadata": {},
   "outputs": [
    {
     "data": {
      "text/plain": [
       "array([[1., 1., 1.],\n",
       "       [1., 1., 1.],\n",
       "       [1., 1., 1.]])"
      ]
     },
     "execution_count": 7,
     "metadata": {},
     "output_type": "execute_result"
    }
   ],
   "source": [
    "# ones() : 모든 요소를 1로 초기화\n",
    "np.ones((3, 3))"
   ]
  },
  {
   "cell_type": "code",
   "execution_count": 8,
   "id": "906d6033",
   "metadata": {},
   "outputs": [
    {
     "data": {
      "text/plain": [
       "array([[2.4, 2.4, 2.4, 2.4],\n",
       "       [2.4, 2.4, 2.4, 2.4],\n",
       "       [2.4, 2.4, 2.4, 2.4]])"
      ]
     },
     "execution_count": 8,
     "metadata": {},
     "output_type": "execute_result"
    }
   ],
   "source": [
    "# full() : 모든 요소를 지정한 값으로 초기화\n",
    "np.full((3, 4), 2.4)"
   ]
  },
  {
   "cell_type": "code",
   "execution_count": 9,
   "id": "bf1fd7de",
   "metadata": {},
   "outputs": [
    {
     "data": {
      "text/plain": [
       "array([[1., 0., 0., 0.],\n",
       "       [0., 1., 0., 0.],\n",
       "       [0., 0., 1., 0.],\n",
       "       [0., 0., 0., 1.]])"
      ]
     },
     "execution_count": 9,
     "metadata": {},
     "output_type": "execute_result"
    }
   ],
   "source": [
    "# eye() : 단위행렬(identity matrix) 생성\n",
    "#     주 대각선의 원소가 모두 1이고 나머지 원소는 모두 0인 정사각 행렬이다.\n",
    "np.eye(4)"
   ]
  },
  {
   "cell_type": "code",
   "execution_count": 10,
   "id": "101d0c9d",
   "metadata": {},
   "outputs": [
    {
     "data": {
      "text/plain": [
       "array([[1., 0., 0.],\n",
       "       [1., 1., 0.],\n",
       "       [1., 1., 1.]])"
      ]
     },
     "execution_count": 10,
     "metadata": {},
     "output_type": "execute_result"
    }
   ],
   "source": [
    "# tri() : 삼각행렬 생성\n",
    "np.tri(3)"
   ]
  },
  {
   "cell_type": "code",
   "execution_count": 11,
   "id": "d2788eab",
   "metadata": {},
   "outputs": [
    {
     "data": {
      "text/plain": [
       "array([0., 0., 0., 0., 0., 0., 0., 0., 0., 0.])"
      ]
     },
     "execution_count": 11,
     "metadata": {},
     "output_type": "execute_result"
    }
   ],
   "source": [
    "# empty() : 초기화되지 않은 배열 생성\n",
    "#     초기화가 없어서 배열 생성비용 저렴하고 빠름\n",
    "#     초기화되지 않아서 기존 메모리 위치에 존재하는 값이 있음\n",
    "np.empty(10) # 어떤 값이 array에 들어갈지 모르는 생성방법임"
   ]
  },
  {
   "cell_type": "code",
   "execution_count": 12,
   "id": "8d0cc5b5",
   "metadata": {},
   "outputs": [
    {
     "name": "stdout",
     "output_type": "stream",
     "text": [
      "[1 2 4]\n"
     ]
    },
    {
     "data": {
      "text/plain": [
       "array([0, 0, 0])"
      ]
     },
     "execution_count": 12,
     "metadata": {},
     "output_type": "execute_result"
    }
   ],
   "source": [
    "# _like() : 지정된 배열과 shape가 같은 행렬 생성\n",
    "#     np.zeros_like()\n",
    "#     np.ones_like()\n",
    "#     np.full_like()\n",
    "#     np.eye_like()\n",
    "\n",
    "print(a1)\n",
    "np.zeros_like(a1)"
   ]
  },
  {
   "cell_type": "code",
   "execution_count": 13,
   "id": "3ff78dcc",
   "metadata": {},
   "outputs": [
    {
     "name": "stdout",
     "output_type": "stream",
     "text": [
      "[[ 1 10  3]\n",
      " [ 4  5  6]\n",
      " [ 7  8  9]]\n"
     ]
    },
    {
     "data": {
      "text/plain": [
       "array([[1, 1, 1],\n",
       "       [1, 1, 1],\n",
       "       [1, 1, 1]])"
      ]
     },
     "execution_count": 13,
     "metadata": {},
     "output_type": "execute_result"
    }
   ],
   "source": [
    "print(a2)\n",
    "np.ones_like(a2)"
   ]
  },
  {
   "cell_type": "code",
   "execution_count": 14,
   "id": "7c7123d0",
   "metadata": {},
   "outputs": [
    {
     "name": "stdout",
     "output_type": "stream",
     "text": [
      "[[[ 1  2  3]\n",
      "  [ 4  5  6]\n",
      "  [ 7  8  9]]\n",
      "\n",
      " [[10 11 12]\n",
      "  [13 14 15]\n",
      "  [16 17 18]]\n",
      "\n",
      " [[19 20 21]\n",
      "  [22 23 24]\n",
      "  [25 26 27]]]\n"
     ]
    },
    {
     "data": {
      "text/plain": [
       "array([[[14, 14, 14],\n",
       "        [14, 14, 14],\n",
       "        [14, 14, 14]],\n",
       "\n",
       "       [[14, 14, 14],\n",
       "        [14, 14, 14],\n",
       "        [14, 14, 14]],\n",
       "\n",
       "       [[14, 14, 14],\n",
       "        [14, 14, 14],\n",
       "        [14, 14, 14]]])"
      ]
     },
     "execution_count": 14,
     "metadata": {},
     "output_type": "execute_result"
    }
   ],
   "source": [
    "print(a3)\n",
    "np.full_like(a3, 14)"
   ]
  },
  {
   "cell_type": "markdown",
   "id": "8da8c172",
   "metadata": {},
   "source": [
    "### 생성한 값으로 배열 생성"
   ]
  },
  {
   "cell_type": "code",
   "execution_count": 15,
   "id": "0de72745",
   "metadata": {},
   "outputs": [
    {
     "data": {
      "text/plain": [
       "array([ 0,  2,  4,  6,  8, 10, 12, 14, 16, 18, 20, 22, 24, 26, 28])"
      ]
     },
     "execution_count": 15,
     "metadata": {},
     "output_type": "execute_result"
    }
   ],
   "source": [
    "# arange() : 정수 범위로 배열 생성\n",
    "np.arange(0, 30, 2)"
   ]
  },
  {
   "cell_type": "code",
   "execution_count": 16,
   "id": "4ab86da6",
   "metadata": {},
   "outputs": [
    {
     "data": {
      "text/plain": [
       "array([0.  , 0.25, 0.5 , 0.75, 1.  ])"
      ]
     },
     "execution_count": 16,
     "metadata": {},
     "output_type": "execute_result"
    }
   ],
   "source": [
    "# linspace() : 범위 내에서 균등 간격의 배열 생성\n",
    "np.linspace(0, 1, 5)"
   ]
  },
  {
   "cell_type": "code",
   "execution_count": 17,
   "id": "4b63bfdd",
   "metadata": {},
   "outputs": [
    {
     "data": {
      "text/plain": [
       "array([ 1.25892541,  2.11348904,  3.54813389,  5.95662144, 10.        ])"
      ]
     },
     "execution_count": 17,
     "metadata": {},
     "output_type": "execute_result"
    }
   ],
   "source": [
    "# logspace() : 범위 내에서 균등 간격으로 log sacale로 배열 생성\n",
    "np.logspace(0.1, 1, 5)"
   ]
  },
  {
   "cell_type": "markdown",
   "id": "eb8eb58d",
   "metadata": {},
   "source": [
    "### 랜덤값으로 배열 생성\n",
    "|함수|설명|\n",
    "|-----|-----|\n",
    "|seed|난수 발생을 위한 seed 생성|\n",
    "|permutation|순서를 임의로 바꾸거나 임의의 순열 반환|\n",
    "|shuffle|list나 배열의 순서를 뒤섞음|\n",
    "|random|랜덤한 수의 배열 생성|\n",
    "|rand|균등분포에서 표본 추출|\n",
    "|randint|주어진 최소/최대 범위의 난수 추출|\n",
    "|randn|표준편차가 1, 평균값 0인 정규분포의 표본 추출|\n",
    "|binomial|이항분포에서 표본 추출|\n",
    "|normal|정규분포(gaussian)에서 표본 추출|\n",
    "|beta|beta분포에서 표본 추출|\n",
    "|chisquare|chi-제곱 분포에서 표본 추출|\n",
    "|gamma|감마분포에서 표본 추출|\n",
    "|uniform|균등분포에서 표본 추출|"
   ]
  },
  {
   "cell_type": "code",
   "execution_count": 18,
   "id": "cca88210",
   "metadata": {},
   "outputs": [
    {
     "data": {
      "text/plain": [
       "array([[0.90832149, 0.30838752, 0.97631481],\n",
       "       [0.74495791, 0.0892042 , 0.41920692],\n",
       "       [0.90135063, 0.61736174, 0.62179294]])"
      ]
     },
     "execution_count": 18,
     "metadata": {},
     "output_type": "execute_result"
    }
   ],
   "source": [
    "# random.random() : 랜덤한 수의 배열 생성\n",
    "np.random.random((3, 3))"
   ]
  },
  {
   "cell_type": "code",
   "execution_count": 19,
   "id": "cbe9253e",
   "metadata": {},
   "outputs": [
    {
     "data": {
      "text/plain": [
       "array([[ 7,  4, 13,  8,  7],\n",
       "       [13,  5,  3, 12,  0],\n",
       "       [ 9, 11, 11,  1, 13]])"
      ]
     },
     "execution_count": 19,
     "metadata": {},
     "output_type": "execute_result"
    }
   ],
   "source": [
    "# random.randint() : 일정 구간에서 랜덤 정수의 배열 새엇ㅇ\n",
    "np.random.randint(0, 20, (3, 5))"
   ]
  },
  {
   "cell_type": "code",
   "execution_count": 21,
   "id": "2269ca1f",
   "metadata": {},
   "outputs": [
    {
     "data": {
      "text/plain": [
       "array([[ 1.01089434,  0.60373191, -1.16458055],\n",
       "       [-1.39340652,  0.23904925,  0.24281057],\n",
       "       [-0.71137986,  0.13514465, -0.73414698]])"
      ]
     },
     "execution_count": 21,
     "metadata": {},
     "output_type": "execute_result"
    }
   ],
   "source": [
    "# random.normal() : 정규분포를 고려한 랜덤한 수의 배열 생성\n",
    "# 평균, 표준편차, 사이즈에 대한 내용을 입력해 주어야 한다.\n",
    "np.random.normal(0, 1, (3, 3))"
   ]
  },
  {
   "cell_type": "code",
   "execution_count": 24,
   "id": "d7ec141b",
   "metadata": {},
   "outputs": [
    {
     "data": {
      "text/plain": [
       "array([[0.83807218, 0.36133925, 0.92219358],\n",
       "       [0.60112287, 0.11768045, 0.07969298],\n",
       "       [0.46646868, 0.08425604, 0.5903485 ]])"
      ]
     },
     "execution_count": 24,
     "metadata": {},
     "output_type": "execute_result"
    }
   ],
   "source": [
    "# random.rand() : 균등분포(uniform distribution)를 고려한 랜덤한 수의 배열 생성\n",
    "np.random.rand(3, 3)"
   ]
  },
  {
   "cell_type": "code",
   "execution_count": 26,
   "id": "0d176bf9",
   "metadata": {},
   "outputs": [
    {
     "data": {
      "text/plain": [
       "array([[-1.8115609 ,  2.26256277, -1.43158127],\n",
       "       [ 1.94649397,  0.03366177,  0.36429101],\n",
       "       [ 0.28698947, -0.35786095, -1.4150988 ]])"
      ]
     },
     "execution_count": 26,
     "metadata": {},
     "output_type": "execute_result"
    }
   ],
   "source": [
    "# random.randn() : 정규분포(gaussian distribution)를 고려한 랜덤한 수의 새엇ㅇ\n",
    "np.random.randn(3,3)"
   ]
  },
  {
   "cell_type": "markdown",
   "id": "a862c7f0",
   "metadata": {},
   "source": [
    "### 표준 데이터 타입\n",
    "|데이터 타입(dtype)|설명|\n",
    "|-----|-----|\n",
    "|bool_|byte로 저장된 boolean으로 true, false 값을 지닌다.|\n",
    "|int_|기본 정수(integer) type|\n",
    "|intc|C언어에서 사용되는 int와 동일(일반적으로 int32, int64)|\n",
    "|intp|indexing에서 사용되는 정수(C언어에서 ssize_t와 동일; 일반적으로 int32 또는 int64)|\n",
    "|int8|byte(-128 ~ 127)|\n",
    "|int16|정수 (-32768 ~ 32767)|\n",
    "|int32|정수 (-2147483648 ~ 2147483647)|\n",
    "|int64|정수 (-9223372036854775808 ~ 9223372036854775807)|\n",
    "|uint8|부호없는 정수(0 ~ 2^8)|\n",
    "|uint16|부호없는 정수(0 ~ 2^16)|\n",
    "|uint32|부호없는 정수(0 ~ 2^32)|\n",
    "|uint64|부호없는 정수(0 ~ 2^64)|\n",
    "|float16|반정밀 부동 소수점(Half Precision float) : 부호 비트, 5비트 지수, 10비트 가수|\n",
    "|float32|단정밀 부동 소수점(Half Precision float) : 부호 비트, 8비트 지수, 23비트 가수|\n",
    "|float64|배정밀 부동 소수점(Half Precision float) : 부호 비트, 11비트 지수, 52비트 가수|\n",
    "|float_|float64를 줄여서 표현|\n",
    "|complex64|복소수(Complex number), 두개의 32비트 부동 소수점으로 표현|\n",
    "|complex128|복소수, 두개의 64비트 부동 소수점으로 표현|\n",
    "|complex_|complex128을 줄여서 표현|"
   ]
  },
  {
   "cell_type": "code",
   "execution_count": 27,
   "id": "8d183a4d",
   "metadata": {},
   "outputs": [
    {
     "data": {
      "text/plain": [
       "array([0, 0, 0, 0, 0, 0, 0, 0, 0, 0, 0, 0, 0, 0, 0, 0, 0, 0, 0, 0])"
      ]
     },
     "execution_count": 27,
     "metadata": {},
     "output_type": "execute_result"
    }
   ],
   "source": [
    "np.zeros(20, dtype = int)"
   ]
  },
  {
   "cell_type": "code",
   "execution_count": 28,
   "id": "e842c5f5",
   "metadata": {},
   "outputs": [
    {
     "data": {
      "text/plain": [
       "array([[ True,  True,  True],\n",
       "       [ True,  True,  True],\n",
       "       [ True,  True,  True]])"
      ]
     },
     "execution_count": 28,
     "metadata": {},
     "output_type": "execute_result"
    }
   ],
   "source": [
    "np.ones((3, 3), dtype = bool)"
   ]
  },
  {
   "cell_type": "code",
   "execution_count": 31,
   "id": "2f3df6d5",
   "metadata": {},
   "outputs": [
    {
     "name": "stdout",
     "output_type": "stream",
     "text": [
      "[[1 1 1]\n",
      " [1 1 1]\n",
      " [1 1 1]]\n",
      "[[1. 1. 1.]\n",
      " [1. 1. 1.]\n",
      " [1. 1. 1.]]\n"
     ]
    }
   ],
   "source": [
    "print(np.full((3, 3), 1.0, dtype = int))\n",
    "print(np.full((3, 3), 1, dtype = float))"
   ]
  },
  {
   "cell_type": "markdown",
   "id": "38144b43",
   "metadata": {},
   "source": [
    "### 날짜/시간 배열 생성"
   ]
  },
  {
   "cell_type": "code",
   "execution_count": 32,
   "id": "515505d0",
   "metadata": {},
   "outputs": [
    {
     "data": {
      "text/plain": [
       "array('2020-01-01', dtype='datetime64[D]')"
      ]
     },
     "execution_count": 32,
     "metadata": {},
     "output_type": "execute_result"
    }
   ],
   "source": [
    "date = np.array('2020-01-01', dtype = np.datetime64)\n",
    "date"
   ]
  },
  {
   "cell_type": "code",
   "execution_count": 34,
   "id": "f94bbd7e",
   "metadata": {},
   "outputs": [
    {
     "data": {
      "text/plain": [
       "array(['2020-01-01', '2020-01-02', '2020-01-03', '2020-01-04',\n",
       "       '2020-01-05', '2020-01-06', '2020-01-07', '2020-01-08',\n",
       "       '2020-01-09', '2020-01-10', '2020-01-11', '2020-01-12'],\n",
       "      dtype='datetime64[D]')"
      ]
     },
     "execution_count": 34,
     "metadata": {},
     "output_type": "execute_result"
    }
   ],
   "source": [
    "date + np.arange(12)"
   ]
  },
  {
   "cell_type": "code",
   "execution_count": 36,
   "id": "a84e65ea",
   "metadata": {},
   "outputs": [
    {
     "data": {
      "text/plain": [
       "numpy.datetime64('2020-01-01T12:00')"
      ]
     },
     "execution_count": 36,
     "metadata": {},
     "output_type": "execute_result"
    }
   ],
   "source": [
    "datetime = np.datetime64('2020-01-01 12:00')\n",
    "datetime"
   ]
  },
  {
   "cell_type": "code",
   "execution_count": 38,
   "id": "05d31d9d",
   "metadata": {},
   "outputs": [
    {
     "data": {
      "text/plain": [
       "numpy.datetime64('2020-06-01T12:00:12.340000000')"
      ]
     },
     "execution_count": 38,
     "metadata": {},
     "output_type": "execute_result"
    }
   ],
   "source": [
    "datetime = np.datetime64('2020-06-01 12:00:12.34', 'ns')\n",
    "datetime"
   ]
  },
  {
   "cell_type": "code",
   "execution_count": 39,
   "id": "2a222b27",
   "metadata": {},
   "outputs": [
    {
     "data": {
      "text/plain": [
       "numpy.datetime64('2020-06-01T12:00:12.340')"
      ]
     },
     "execution_count": 39,
     "metadata": {},
     "output_type": "execute_result"
    }
   ],
   "source": [
    "datetime = np.datetime64('2020-06-01 12:00:12.34', 'ms')\n",
    "datetime"
   ]
  },
  {
   "cell_type": "markdown",
   "id": "8789a1e6",
   "metadata": {},
   "source": [
    "## 배열 조회"
   ]
  },
  {
   "cell_type": "markdown",
   "id": "ffca6907",
   "metadata": {},
   "source": [
    "### 배열 속성 정보"
   ]
  },
  {
   "cell_type": "code",
   "execution_count": 52,
   "id": "d5458cef",
   "metadata": {},
   "outputs": [],
   "source": [
    "def array_info(in_array):\n",
    "    print(in_array)\n",
    "    print(type(in_array))\n",
    "    print(\"shape : \", in_array.shape)\n",
    "    print(\"ndim : \", in_array.ndim)\n",
    "    print(\"itemsize : \", in_array.itemsize)\n",
    "    print(\"nbytes : \", in_array.nbytes)\n",
    "    print(\"strides : \", in_array.strides)"
   ]
  },
  {
   "cell_type": "code",
   "execution_count": 53,
   "id": "ce77cb21",
   "metadata": {},
   "outputs": [
    {
     "name": "stdout",
     "output_type": "stream",
     "text": [
      "[1 2 4]\n",
      "<class 'numpy.ndarray'>\n",
      "shape :  (3,)\n",
      "ndim :  1\n",
      "itemsize :  4\n",
      "nbytes :  12\n",
      "strides :  (4,)\n"
     ]
    }
   ],
   "source": [
    "array_info(a1)"
   ]
  },
  {
   "cell_type": "code",
   "execution_count": 54,
   "id": "3d468e8c",
   "metadata": {},
   "outputs": [
    {
     "name": "stdout",
     "output_type": "stream",
     "text": [
      "[[ 1 10  3]\n",
      " [ 4  5  6]\n",
      " [ 7  8  9]]\n",
      "<class 'numpy.ndarray'>\n",
      "shape :  (3, 3)\n",
      "ndim :  2\n",
      "itemsize :  4\n",
      "nbytes :  36\n",
      "strides :  (12, 4)\n"
     ]
    }
   ],
   "source": [
    "array_info(a2)"
   ]
  },
  {
   "cell_type": "code",
   "execution_count": 55,
   "id": "52e730db",
   "metadata": {},
   "outputs": [
    {
     "name": "stdout",
     "output_type": "stream",
     "text": [
      "[[[ 1  2  3]\n",
      "  [ 4  5  6]\n",
      "  [ 7  8  9]]\n",
      "\n",
      " [[10 11 12]\n",
      "  [13 14 15]\n",
      "  [16 17 18]]\n",
      "\n",
      " [[19 20 21]\n",
      "  [22 23 24]\n",
      "  [25 26 27]]]\n",
      "<class 'numpy.ndarray'>\n",
      "shape :  (3, 3, 3)\n",
      "ndim :  3\n",
      "itemsize :  4\n",
      "nbytes :  108\n",
      "strides :  (36, 12, 4)\n"
     ]
    }
   ],
   "source": [
    "array_info(a3)"
   ]
  },
  {
   "cell_type": "markdown",
   "id": "aae28e5e",
   "metadata": {},
   "source": [
    "### Indexing"
   ]
  },
  {
   "cell_type": "code",
   "execution_count": 58,
   "id": "f9832e46",
   "metadata": {},
   "outputs": [
    {
     "name": "stdout",
     "output_type": "stream",
     "text": [
      "[1 2 4]\n",
      "1\n",
      "2\n"
     ]
    }
   ],
   "source": [
    "print(a1)\n",
    "print(a1[0])\n",
    "print(a1[-2])"
   ]
  },
  {
   "cell_type": "code",
   "execution_count": 59,
   "id": "da83556d",
   "metadata": {},
   "outputs": [
    {
     "name": "stdout",
     "output_type": "stream",
     "text": [
      "[[ 1 10  3]\n",
      " [ 4  5  6]\n",
      " [ 7  8  9]]\n",
      "10\n",
      "6\n"
     ]
    }
   ],
   "source": [
    "print(a2)\n",
    "print(a2[0][1])\n",
    "print(a2[-2][2])"
   ]
  },
  {
   "cell_type": "code",
   "execution_count": 61,
   "id": "b8798561",
   "metadata": {},
   "outputs": [
    {
     "name": "stdout",
     "output_type": "stream",
     "text": [
      "[[[ 1  2  3]\n",
      "  [ 4  5  6]\n",
      "  [ 7  8  9]]\n",
      "\n",
      " [[10 11 12]\n",
      "  [13 14 15]\n",
      "  [16 17 18]]\n",
      "\n",
      " [[19 20 21]\n",
      "  [22 23 24]\n",
      "  [25 26 27]]]\n",
      "6\n",
      "17\n"
     ]
    }
   ],
   "source": [
    "print(a3)\n",
    "print(a3[0][1][2])\n",
    "print(a3[-2][-1][1])"
   ]
  },
  {
   "cell_type": "markdown",
   "id": "c010204e",
   "metadata": {},
   "source": [
    "### Slicing\n",
    "- Slicing 구문 : a[start:stop:step]\n",
    "- 기본값 : start = =, stop = ndim, step = 1"
   ]
  },
  {
   "cell_type": "code",
   "execution_count": 62,
   "id": "66d810cf",
   "metadata": {},
   "outputs": [
    {
     "data": {
      "text/plain": [
       "array([1, 2])"
      ]
     },
     "execution_count": 62,
     "metadata": {},
     "output_type": "execute_result"
    }
   ],
   "source": [
    "a1[0:2]"
   ]
  },
  {
   "cell_type": "code",
   "execution_count": 63,
   "id": "72c75557",
   "metadata": {},
   "outputs": [
    {
     "data": {
      "text/plain": [
       "array([1, 2, 4])"
      ]
     },
     "execution_count": 63,
     "metadata": {},
     "output_type": "execute_result"
    }
   ],
   "source": [
    "a1[0:]"
   ]
  },
  {
   "cell_type": "code",
   "execution_count": 64,
   "id": "2e7b39a3",
   "metadata": {},
   "outputs": [
    {
     "data": {
      "text/plain": [
       "array([1, 4])"
      ]
     },
     "execution_count": 64,
     "metadata": {},
     "output_type": "execute_result"
    }
   ],
   "source": [
    "a1[::2]"
   ]
  },
  {
   "cell_type": "code",
   "execution_count": 65,
   "id": "93e3ba46",
   "metadata": {},
   "outputs": [
    {
     "data": {
      "text/plain": [
       "array([4, 2, 1])"
      ]
     },
     "execution_count": 65,
     "metadata": {},
     "output_type": "execute_result"
    }
   ],
   "source": [
    "a1[::-1]"
   ]
  },
  {
   "cell_type": "code",
   "execution_count": 68,
   "id": "420d87bd",
   "metadata": {},
   "outputs": [
    {
     "name": "stdout",
     "output_type": "stream",
     "text": [
      "[[ 1 10  3]\n",
      " [ 4  5  6]\n",
      " [ 7  8  9]]\n",
      "[4 5 6]\n",
      "[4 5]\n",
      "[[ 9  8  7]\n",
      " [ 6  5  4]\n",
      " [ 3 10  1]]\n",
      "Transpose Matrix of a2 is as below.\n",
      "[[ 1  4  7]\n",
      " [10  5  8]\n",
      " [ 3  6  9]]\n"
     ]
    }
   ],
   "source": [
    "print(a2)\n",
    "print(a2[1, :])\n",
    "print(a2[1, :2])\n",
    "print(a2[::-1, ::-1])\n",
    "print(\"Transpose Matrix of a2 is as below.\")\n",
    "print(a2.T)"
   ]
  },
  {
   "cell_type": "markdown",
   "id": "2e3ab419",
   "metadata": {},
   "source": [
    "### Boolean Indexing\n",
    "- 배열 각 요소의 선택 여부를 Boolean(True, False)로 지정\n",
    "- True 값인 index의 값만 조회"
   ]
  },
  {
   "cell_type": "code",
   "execution_count": 71,
   "id": "9b71644b",
   "metadata": {},
   "outputs": [
    {
     "name": "stdout",
     "output_type": "stream",
     "text": [
      "[1 2 4]\n",
      "[2 4]\n",
      "[1 4]\n"
     ]
    }
   ],
   "source": [
    "print(a1)\n",
    "bi = [False, True, True]\n",
    "print(a1[bi])\n",
    "bi = [True, False, True]\n",
    "print(a1[bi])"
   ]
  },
  {
   "cell_type": "code",
   "execution_count": 76,
   "id": "7af0970c",
   "metadata": {},
   "outputs": [
    {
     "name": "stdout",
     "output_type": "stream",
     "text": [
      "[[ 1 10  3]\n",
      " [ 4  5  6]\n",
      " [ 7  8  9]]\n",
      "[1 5 8 9]\n"
     ]
    }
   ],
   "source": [
    "bi1 = np.random.randint(0, 2, (3,3), dtype = bool)\n",
    "print(a2)\n",
    "print(a2[bi1])"
   ]
  },
  {
   "cell_type": "markdown",
   "id": "6bdd637c",
   "metadata": {},
   "source": [
    "### Fancy Indexing"
   ]
  },
  {
   "cell_type": "code",
   "execution_count": 77,
   "id": "27352eea",
   "metadata": {},
   "outputs": [
    {
     "name": "stdout",
     "output_type": "stream",
     "text": [
      "[1 2 4]\n",
      "[1, 4]\n"
     ]
    },
    {
     "data": {
      "text/plain": [
       "array([1, 4])"
      ]
     },
     "execution_count": 77,
     "metadata": {},
     "output_type": "execute_result"
    }
   ],
   "source": [
    "print(a1)\n",
    "print([a1[0], a1[2]])\n",
    "indx = [0, 2]\n",
    "a1[indx]"
   ]
  },
  {
   "cell_type": "code",
   "execution_count": 80,
   "id": "087a1e5f",
   "metadata": {},
   "outputs": [
    {
     "data": {
      "text/plain": [
       "array([[1, 2],\n",
       "       [2, 2]])"
      ]
     },
     "execution_count": 80,
     "metadata": {},
     "output_type": "execute_result"
    }
   ],
   "source": [
    "idx = np.array([[0, 1], [1, 1]])\n",
    "a1[idx]"
   ]
  },
  {
   "cell_type": "markdown",
   "id": "f37b77eb",
   "metadata": {},
   "source": [
    "## 배열 값 삽입/수정/삭제/복사"
   ]
  },
  {
   "cell_type": "markdown",
   "id": "4461784c",
   "metadata": {},
   "source": [
    "### 배열 값 삽입\n",
    "- insert() : 배열의 특정 위치에 값 삽입\n",
    "- axis를 지정하지 않으면 1차원 배열로 반환\n",
    "- 추가할 방향을 axis로 지정\n",
    "- 원본 배열 변경없이 새로운 배열 반환"
   ]
  },
  {
   "cell_type": "code",
   "execution_count": 83,
   "id": "e91c2099",
   "metadata": {},
   "outputs": [
    {
     "name": "stdout",
     "output_type": "stream",
     "text": [
      "[1 2 4]\n",
      "B1 [10  1  2  4]\n",
      "original [1 2 4]\n",
      "C1 [ 1 10  2  4]\n"
     ]
    }
   ],
   "source": [
    "print(a1)\n",
    "b1 = np.insert(a1, 0, 10)\n",
    "print(\"B1\", b1)\n",
    "print(\"original\", a1)\n",
    "\n",
    "c1 = np.insert(a1, 1, 10)\n",
    "print(\"C1\", c1)"
   ]
  },
  {
   "cell_type": "code",
   "execution_count": 84,
   "id": "b99b8d0d",
   "metadata": {},
   "outputs": [
    {
     "name": "stdout",
     "output_type": "stream",
     "text": [
      "[[ 1 10  3]\n",
      " [ 4  5  6]\n",
      " [ 7  8  9]]\n",
      "[ 1 10 10  3  4  5  6  7  8  9]\n",
      "[[ 1 10  3]\n",
      " [10 10 10]\n",
      " [ 4  5  6]\n",
      " [ 7  8  9]]\n",
      "[[ 1 10 10  3]\n",
      " [ 4 10  5  6]\n",
      " [ 7 10  8  9]]\n"
     ]
    }
   ],
   "source": [
    "print(a2)\n",
    "b2 = np.insert(a2, 1, 10)\n",
    "c2 = np.insert(a2, 1, 10, axis = 0)\n",
    "d2 = np.insert(a2, 1, 10, axis = 1)\n",
    "print(b2)\n",
    "print(c2)\n",
    "print(d2)"
   ]
  },
  {
   "cell_type": "markdown",
   "id": "66c91610",
   "metadata": {},
   "source": [
    "### 배열 값 수정\n",
    "- 배열의 인덱싱으로 접근하여 값 수정"
   ]
  },
  {
   "cell_type": "code",
   "execution_count": 85,
   "id": "9caaf510",
   "metadata": {},
   "outputs": [
    {
     "name": "stdout",
     "output_type": "stream",
     "text": [
      "[1 2 4]\n",
      "[111   2   4]\n"
     ]
    }
   ],
   "source": [
    "print(a1)\n",
    "a1[0] = 111\n",
    "print(a1)"
   ]
  },
  {
   "cell_type": "code",
   "execution_count": 86,
   "id": "fc6a7be1",
   "metadata": {},
   "outputs": [
    {
     "name": "stdout",
     "output_type": "stream",
     "text": [
      "[111   2   4]\n",
      "[22 22  4]\n"
     ]
    }
   ],
   "source": [
    "print(a1)\n",
    "a1[:2] = 22\n",
    "print(a1)"
   ]
  },
  {
   "cell_type": "markdown",
   "id": "12152e5f",
   "metadata": {},
   "source": [
    "### 배열 값 삭제\n",
    "- delete() : 배열의 특정 위치의 값 삭제\n",
    "- axis 를 지정하지 않으면 1차원 배열로 반환\n",
    "- 삭제할 방향을 axis로 지정\n",
    "- 원본 배열 변경없이 새로운 배열 반환"
   ]
  },
  {
   "cell_type": "code",
   "execution_count": 88,
   "id": "9e213e78",
   "metadata": {},
   "outputs": [
    {
     "data": {
      "text/plain": [
       "array([22, 22])"
      ]
     },
     "execution_count": 88,
     "metadata": {},
     "output_type": "execute_result"
    }
   ],
   "source": [
    "np.delete(a1, 2)"
   ]
  },
  {
   "cell_type": "code",
   "execution_count": 90,
   "id": "658d4ecd",
   "metadata": {},
   "outputs": [
    {
     "name": "stdout",
     "output_type": "stream",
     "text": [
      "[[ 1 10  3]\n",
      " [ 4  5  6]\n",
      " [ 7  8  9]]\n",
      "[ 1 10  4  5  6  7  8  9]\n",
      "[[ 1 10  3]\n",
      " [ 4  5  6]]\n",
      "[[ 1 10]\n",
      " [ 4  5]\n",
      " [ 7  8]]\n"
     ]
    }
   ],
   "source": [
    "print(a2)\n",
    "b2 = np.delete(a2, 2)\n",
    "c2 = np.delete(a2, 2, axis = 0)\n",
    "d2 = np.delete(a2, 2, axis = 1)\n",
    "print(b2)\n",
    "print(c2)\n",
    "print(d2)"
   ]
  },
  {
   "cell_type": "markdown",
   "id": "7dedd4cb",
   "metadata": {},
   "source": [
    "### 배열 복사\n",
    "- list 자료형과 달리 배열 슬라이스는 복사본이 아니다\n",
    "- copy() : 배열이나 하위 배열 내의 값을 명시적으로 복사"
   ]
  },
  {
   "cell_type": "code",
   "execution_count": 92,
   "id": "61b8fa9a",
   "metadata": {},
   "outputs": [
    {
     "name": "stdout",
     "output_type": "stream",
     "text": [
      "[[ 1 10  3]\n",
      " [ 4  5  6]\n",
      " [ 7  8  9]]\n",
      "[[ 1 10]\n",
      " [ 4  5]]\n",
      "[[ 1 10]\n",
      " [ 4  5]]\n",
      "[[1 0]\n",
      " [4 0]]\n",
      "[[1 0 3]\n",
      " [4 0 6]\n",
      " [7 8 9]]\n"
     ]
    }
   ],
   "source": [
    "# 배열 slicing으로 기존 배열의 일부를 받아왔는데, a2_sub의 배열 값을 변경했는데, a2까지 바뀌어 있음\n",
    "print(a2)\n",
    "print(a2[:2, :2])\n",
    "a2_sub = a2[:2, :2]\n",
    "print(a2_sub)\n",
    "a2_sub[:, 1] = 0\n",
    "print(a2_sub)\n",
    "print(a2)"
   ]
  },
  {
   "cell_type": "code",
   "execution_count": 93,
   "id": "0711d11d",
   "metadata": {},
   "outputs": [
    {
     "name": "stdout",
     "output_type": "stream",
     "text": [
      "[[1 0 3]\n",
      " [4 0 6]\n",
      " [7 8 9]]\n",
      "[[1 0]\n",
      " [4 0]]\n",
      "[[1 2]\n",
      " [4 2]]\n",
      "[[1 0 3]\n",
      " [4 0 6]\n",
      " [7 8 9]]\n"
     ]
    }
   ],
   "source": [
    "print(a2)\n",
    "a2_sub = a2[:2, :2].copy()\n",
    "print(a2_sub)\n",
    "a2_sub[:, 1] = 2\n",
    "print(a2_sub)\n",
    "print(a2)"
   ]
  },
  {
   "cell_type": "markdown",
   "id": "5ad9f1b5",
   "metadata": {},
   "source": [
    "## 배열 변환"
   ]
  },
  {
   "cell_type": "markdown",
   "id": "2c996961",
   "metadata": {},
   "source": [
    "### 배열 전치 및 축 변경"
   ]
  },
  {
   "cell_type": "code",
   "execution_count": 94,
   "id": "b704b3b4",
   "metadata": {},
   "outputs": [
    {
     "name": "stdout",
     "output_type": "stream",
     "text": [
      "[[1 0 3]\n",
      " [4 0 6]\n",
      " [7 8 9]]\n",
      "[[1 4 7]\n",
      " [0 0 8]\n",
      " [3 6 9]]\n"
     ]
    }
   ],
   "source": [
    "print(a2)\n",
    "print(a2.T)"
   ]
  },
  {
   "cell_type": "code",
   "execution_count": 95,
   "id": "e5042042",
   "metadata": {},
   "outputs": [
    {
     "name": "stdout",
     "output_type": "stream",
     "text": [
      "[[[ 1  2  3]\n",
      "  [ 4  5  6]\n",
      "  [ 7  8  9]]\n",
      "\n",
      " [[10 11 12]\n",
      "  [13 14 15]\n",
      "  [16 17 18]]\n",
      "\n",
      " [[19 20 21]\n",
      "  [22 23 24]\n",
      "  [25 26 27]]]\n",
      "[[[ 1 10 19]\n",
      "  [ 4 13 22]\n",
      "  [ 7 16 25]]\n",
      "\n",
      " [[ 2 11 20]\n",
      "  [ 5 14 23]\n",
      "  [ 8 17 26]]\n",
      "\n",
      " [[ 3 12 21]\n",
      "  [ 6 15 24]\n",
      "  [ 9 18 27]]]\n"
     ]
    }
   ],
   "source": [
    "print(a3)\n",
    "print(a3.T)"
   ]
  },
  {
   "cell_type": "code",
   "execution_count": 96,
   "id": "9e3e9975",
   "metadata": {},
   "outputs": [
    {
     "name": "stdout",
     "output_type": "stream",
     "text": [
      "[[1 0 3]\n",
      " [4 0 6]\n",
      " [7 8 9]]\n",
      "[[1 4 7]\n",
      " [0 0 8]\n",
      " [3 6 9]]\n"
     ]
    }
   ],
   "source": [
    "print(a2)\n",
    "print(a2.swapaxes(1, 0))"
   ]
  },
  {
   "cell_type": "code",
   "execution_count": 97,
   "id": "6eae0355",
   "metadata": {},
   "outputs": [
    {
     "name": "stdout",
     "output_type": "stream",
     "text": [
      "[[[ 1  2  3]\n",
      "  [ 4  5  6]\n",
      "  [ 7  8  9]]\n",
      "\n",
      " [[10 11 12]\n",
      "  [13 14 15]\n",
      "  [16 17 18]]\n",
      "\n",
      " [[19 20 21]\n",
      "  [22 23 24]\n",
      "  [25 26 27]]]\n",
      "[[[ 1  2  3]\n",
      "  [10 11 12]\n",
      "  [19 20 21]]\n",
      "\n",
      " [[ 4  5  6]\n",
      "  [13 14 15]\n",
      "  [22 23 24]]\n",
      "\n",
      " [[ 7  8  9]\n",
      "  [16 17 18]\n",
      "  [25 26 27]]]\n",
      "[[[ 1  4  7]\n",
      "  [ 2  5  8]\n",
      "  [ 3  6  9]]\n",
      "\n",
      " [[10 13 16]\n",
      "  [11 14 17]\n",
      "  [12 15 18]]\n",
      "\n",
      " [[19 22 25]\n",
      "  [20 23 26]\n",
      "  [21 24 27]]]\n",
      "[[[ 1 10 19]\n",
      "  [ 4 13 22]\n",
      "  [ 7 16 25]]\n",
      "\n",
      " [[ 2 11 20]\n",
      "  [ 5 14 23]\n",
      "  [ 8 17 26]]\n",
      "\n",
      " [[ 3 12 21]\n",
      "  [ 6 15 24]\n",
      "  [ 9 18 27]]]\n"
     ]
    }
   ],
   "source": [
    "print(a3)\n",
    "print(a3.swapaxes(0, 1))\n",
    "print(a3.swapaxes(1, 2))\n",
    "print(a3.swapaxes(0, 2))"
   ]
  },
  {
   "cell_type": "markdown",
   "id": "d8438987",
   "metadata": {},
   "source": [
    "### 배열 재구조화\n",
    "- reshape() : 배열의 형상을 변경\n",
    "- newaxis() : 새로운 축 추가"
   ]
  },
  {
   "cell_type": "code",
   "execution_count": 106,
   "id": "87ba2e33",
   "metadata": {},
   "outputs": [
    {
     "data": {
      "text/plain": [
       "array([0, 1, 2, 3, 4, 5, 6, 7, 8, 9])"
      ]
     },
     "execution_count": 106,
     "metadata": {},
     "output_type": "execute_result"
    }
   ],
   "source": [
    "n1 = np.arange(0, 10)\n",
    "n1"
   ]
  },
  {
   "cell_type": "code",
   "execution_count": 107,
   "id": "fbeb058b",
   "metadata": {},
   "outputs": [
    {
     "data": {
      "text/plain": [
       "array([[0, 1, 2, 3, 4],\n",
       "       [5, 6, 7, 8, 9]])"
      ]
     },
     "execution_count": 107,
     "metadata": {},
     "output_type": "execute_result"
    }
   ],
   "source": [
    "n1.reshape(2, 5)"
   ]
  },
  {
   "cell_type": "code",
   "execution_count": 109,
   "id": "8c6b0c66",
   "metadata": {},
   "outputs": [
    {
     "name": "stdout",
     "output_type": "stream",
     "text": [
      "[0 1 2 3 4 5 6 7 8 9]\n",
      "[[0 1 2 3 4]]\n",
      "[[0]\n",
      " [1]\n",
      " [2]\n",
      " [3]\n",
      " [4]]\n"
     ]
    }
   ],
   "source": [
    "print(n1)\n",
    "print(n1[np.newaxis, :5])\n",
    "print(n1[:5, np.newaxis])"
   ]
  },
  {
   "cell_type": "markdown",
   "id": "2b2932de",
   "metadata": {},
   "source": [
    "### 배열 크기 변경"
   ]
  },
  {
   "cell_type": "code",
   "execution_count": 110,
   "id": "e006cb9a",
   "metadata": {},
   "outputs": [
    {
     "name": "stdout",
     "output_type": "stream",
     "text": [
      "[[8 3 8 5 4]\n",
      " [4 7 6 9 7]]\n",
      "[[8 3]\n",
      " [8 5]\n",
      " [4 4]\n",
      " [7 6]\n",
      " [9 7]]\n"
     ]
    }
   ],
   "source": [
    "# 배열 모양만 변경\n",
    "n2 = np.random.randint(0, 10, (2, 5))\n",
    "print(n2)\n",
    "n2.resize((5, 2))\n",
    "print(n2)"
   ]
  },
  {
   "cell_type": "code",
   "execution_count": 112,
   "id": "60b04032",
   "metadata": {},
   "outputs": [
    {
     "data": {
      "text/plain": [
       "array([[8, 3, 8, 5, 4],\n",
       "       [4, 7, 6, 9, 7],\n",
       "       [0, 0, 0, 0, 0],\n",
       "       [0, 0, 0, 0, 0],\n",
       "       [0, 0, 0, 0, 0]])"
      ]
     },
     "execution_count": 112,
     "metadata": {},
     "output_type": "execute_result"
    }
   ],
   "source": [
    "# 배열 크기 증가\n",
    "# 남은 공간은 0으로 채워짐\n",
    "n2.resize((5, 5))\n",
    "n2"
   ]
  },
  {
   "cell_type": "code",
   "execution_count": 119,
   "id": "d309e779",
   "metadata": {},
   "outputs": [
    {
     "name": "stdout",
     "output_type": "stream",
     "text": [
      "[[8 3 8]\n",
      " [5 4 4]]\n"
     ]
    }
   ],
   "source": [
    "# 배열 크기 감소\n",
    "# 포함되지 않은 값 삭제\n",
    "n2.resize((2, 3), refcheck = False)\n",
    "print(n2)"
   ]
  },
  {
   "cell_type": "markdown",
   "id": "906118a8",
   "metadata": {},
   "source": [
    "### 배열 추가\n",
    "- append() : 배열의 끝에 값 추가\n",
    "- axis 지정이 없으면 1차원 배열 형태로 변형되어 결합\n",
    "- axis를 0으로 지정\n",
    "- shape[0]을 제외한 나머지 shape은 같아야 함\n",
    "- axis를 1로 지정\n",
    "- shape[1]을 제외한 나머지 shape은 같아야 함"
   ]
  },
  {
   "cell_type": "code",
   "execution_count": 121,
   "id": "747f4e9b",
   "metadata": {},
   "outputs": [
    {
     "name": "stdout",
     "output_type": "stream",
     "text": [
      "[[1 2 3]\n",
      " [4 5 6]\n",
      " [7 8 9]]\n",
      "[[11 12 13]\n",
      " [14 15 16]\n",
      " [17 18 19]]\n"
     ]
    }
   ],
   "source": [
    "a2 = np.arange(1, 10).reshape(3, 3)\n",
    "b2 = np.arange(11, 20).reshape(3, 3)\n",
    "print(a2)\n",
    "print(b2)"
   ]
  },
  {
   "cell_type": "code",
   "execution_count": 122,
   "id": "ee7c6a42",
   "metadata": {},
   "outputs": [
    {
     "name": "stdout",
     "output_type": "stream",
     "text": [
      "[ 1  2  3  4  5  6  7  8  9 11 12 13 14 15 16 17 18 19]\n"
     ]
    }
   ],
   "source": [
    "c2 = np.append(a2, b2)\n",
    "print(c2)"
   ]
  },
  {
   "cell_type": "code",
   "execution_count": 123,
   "id": "bdc9cdb0",
   "metadata": {},
   "outputs": [
    {
     "name": "stdout",
     "output_type": "stream",
     "text": [
      "[[ 1  2  3]\n",
      " [ 4  5  6]\n",
      " [ 7  8  9]\n",
      " [11 12 13]\n",
      " [14 15 16]\n",
      " [17 18 19]]\n",
      "[[ 1  2  3 11 12 13]\n",
      " [ 4  5  6 14 15 16]\n",
      " [ 7  8  9 17 18 19]]\n"
     ]
    }
   ],
   "source": [
    "d2 = np.append(a2, b2, axis = 0)\n",
    "print(d2)\n",
    "e2 = np.append(a2, b2, axis = 1)\n",
    "print(e2)"
   ]
  },
  {
   "cell_type": "markdown",
   "id": "9e6249ae",
   "metadata": {},
   "source": [
    "### 배열 연결\n",
    "- concatenate() : 튜플이나 배열의 리스트를 인수로 사용해 배열 연결\n",
    "- vstack() : 수직 스택(Vertical Stack), 1차원으로 연결\n",
    "- hstack() : 수평 스택(Horizontal Stack), 2차원으로 연결\n",
    "- dstack() : 깊이 스택(Depth Stack), 3차원으로 연결\n",
    "- stack() : 새로운 차원으로 연결"
   ]
  },
  {
   "cell_type": "code",
   "execution_count": 125,
   "id": "eeae4a7b",
   "metadata": {},
   "outputs": [
    {
     "name": "stdout",
     "output_type": "stream",
     "text": [
      "[1 3 5 2 4 6]\n",
      "[[1 3 5]\n",
      " [2 4 6]]\n",
      "[1 3 5 2 4 6]\n"
     ]
    }
   ],
   "source": [
    "a1 = np.arange(1, 6, 2)\n",
    "a2 = np.arange(2, 7, 2)\n",
    "\n",
    "b1 = np.concatenate([a1, a2])\n",
    "b2 = np.vstack([a1, a2])\n",
    "b3 = np.hstack([a1, a2])\n",
    "\n",
    "print(b1)\n",
    "print(b2)\n",
    "print(b3)"
   ]
  },
  {
   "cell_type": "code",
   "execution_count": 126,
   "id": "da71967c",
   "metadata": {},
   "outputs": [
    {
     "data": {
      "text/plain": [
       "array([1, 3, 5, 1, 3, 5])"
      ]
     },
     "execution_count": 126,
     "metadata": {},
     "output_type": "execute_result"
    }
   ],
   "source": [
    "np.concatenate([a1, a1])"
   ]
  },
  {
   "cell_type": "code",
   "execution_count": 128,
   "id": "80bcf29e",
   "metadata": {},
   "outputs": [
    {
     "data": {
      "text/plain": [
       "array([[1, 3, 5, 1, 3, 5],\n",
       "       [2, 4, 6, 2, 4, 6]])"
      ]
     },
     "execution_count": 128,
     "metadata": {},
     "output_type": "execute_result"
    }
   ],
   "source": [
    "np.concatenate([b2, b2], axis = 1)"
   ]
  },
  {
   "cell_type": "code",
   "execution_count": 129,
   "id": "3034f346",
   "metadata": {},
   "outputs": [
    {
     "data": {
      "text/plain": [
       "array([[1, 3, 5],\n",
       "       [2, 4, 6],\n",
       "       [1, 3, 5],\n",
       "       [2, 4, 6]])"
      ]
     },
     "execution_count": 129,
     "metadata": {},
     "output_type": "execute_result"
    }
   ],
   "source": [
    "np.concatenate([b2, b2], axis = 0)"
   ]
  },
  {
   "cell_type": "markdown",
   "id": "fc59a6d4",
   "metadata": {},
   "source": [
    "### 배열 분할\n",
    "- split() : 배열 분할\n",
    "- vsplit() : 수직 분할, 1차원으로 분할\n",
    "- hsplit() : 수평 분할, 2차원으로 분할\n",
    "- dsplit() : 깊이 분할, 3차원으로 분할"
   ]
  },
  {
   "cell_type": "code",
   "execution_count": 133,
   "id": "6fc3e6b2",
   "metadata": {},
   "outputs": [
    {
     "name": "stdout",
     "output_type": "stream",
     "text": [
      "[0 1 2 3 4 5 6 7 8 9]\n",
      "[0 1]\n",
      "[2 3 4]\n",
      "[5 6 7 8 9]\n"
     ]
    }
   ],
   "source": [
    "a1 = np.arange(0, 10)\n",
    "print(a1)\n",
    "b1, b2, b3 = np.split(a1, [2, 5])\n",
    "print(b1)\n",
    "print(b2)\n",
    "print(b3)"
   ]
  },
  {
   "cell_type": "code",
   "execution_count": 137,
   "id": "bd8f37dd",
   "metadata": {},
   "outputs": [
    {
     "name": "stdout",
     "output_type": "stream",
     "text": [
      "[[0 1]\n",
      " [2 3]\n",
      " [4 5]\n",
      " [6 7]\n",
      " [8 9]]\n",
      "[[0 1]\n",
      " [2 3]\n",
      " [4 5]]\n",
      "[[6 7]\n",
      " [8 9]]\n"
     ]
    }
   ],
   "source": [
    "a1 = np.arange(0, 10).reshape(5, 2)\n",
    "print(a1)\n",
    "c1, c2 = np.vsplit(a1, [3])\n",
    "print(c1)\n",
    "print(c2)"
   ]
  },
  {
   "cell_type": "code",
   "execution_count": 140,
   "id": "0bd3ef1a",
   "metadata": {},
   "outputs": [
    {
     "name": "stdout",
     "output_type": "stream",
     "text": [
      "[[9 3 3 5 2 7 1 4 7 3]\n",
      " [3 7 3 6 9 4 3 3 9 7]]\n",
      "[[9 3 3]\n",
      " [3 7 3]]\n",
      "[[5 2 7]\n",
      " [6 9 4]]\n",
      "[[1 4 7 3]\n",
      " [3 3 9 7]]\n"
     ]
    }
   ],
   "source": [
    "a1 = np.array(np.random.randint(1, 10, 20)).reshape(2, 10)\n",
    "print(a1)\n",
    "d1, d2, d3 = np.hsplit(a1, [3, 6])\n",
    "print(d1)\n",
    "print(d2)\n",
    "print(d3)"
   ]
  },
  {
   "cell_type": "markdown",
   "id": "fb6b931e",
   "metadata": {},
   "source": [
    "## 배열 연산\n",
    "- Numpy의 배열 연산은 벡터화(Vectorized) 연산을 사용한다.\n",
    "- 일반적으로 Numpy의 범용 함수(universal functions)를 통해 구현한다.\n",
    "- 배열 요소에 대한 반복적인 계산을 효율적으로 수행한다."
   ]
  },
  {
   "cell_type": "markdown",
   "id": "b44282d1",
   "metadata": {},
   "source": [
    "### Broadcasting"
   ]
  },
  {
   "cell_type": "code",
   "execution_count": 141,
   "id": "e7d42e24",
   "metadata": {},
   "outputs": [
    {
     "name": "stdout",
     "output_type": "stream",
     "text": [
      "[1 2 3]\n",
      "[6 7 8]\n"
     ]
    }
   ],
   "source": [
    "a1 = np.array([1, 2, 3])\n",
    "print(a1)\n",
    "print(a1 + 5)"
   ]
  },
  {
   "cell_type": "code",
   "execution_count": 142,
   "id": "da6c336f",
   "metadata": {},
   "outputs": [
    {
     "name": "stdout",
     "output_type": "stream",
     "text": [
      "[[1 2 3]\n",
      " [4 5 6]\n",
      " [7 8 9]]\n",
      "[1 2 3]\n",
      "[[ 2  4  6]\n",
      " [ 5  7  9]\n",
      " [ 8 10 12]]\n"
     ]
    }
   ],
   "source": [
    "a2 = np.arange(1, 10).reshape(3, 3)\n",
    "print(a2)\n",
    "print(a1)\n",
    "print(a1 + a2)"
   ]
  },
  {
   "cell_type": "code",
   "execution_count": 144,
   "id": "b7306446",
   "metadata": {},
   "outputs": [
    {
     "name": "stdout",
     "output_type": "stream",
     "text": [
      "[1 2 3]\n",
      "[[1]\n",
      " [2]\n",
      " [3]]\n",
      "[[2 3 4]\n",
      " [3 4 5]\n",
      " [4 5 6]]\n"
     ]
    }
   ],
   "source": [
    "a3 = np.arange(1, 4).reshape(3, 1)\n",
    "print(a1)\n",
    "print(a3)\n",
    "print(a1 + a3)"
   ]
  },
  {
   "cell_type": "markdown",
   "id": "f9b02c0b",
   "metadata": {},
   "source": [
    "### 산술연산(Arithmetic Operators)\n",
    "|연산자|명령어|설명|\n",
    "|-----|-----|-----|\n",
    "|+|np.add|덧셈|\n",
    "|-|np.sub|뺄셈|\n",
    "|-|np.negative|단항음수|\n",
    "|* |np.multiply|곱셈|\n",
    "|/|np.divide|나눗셈|\n",
    "|//|np.floor_divide|나눗셈 내림|\n",
    "|**|np.power| 지수 연산|\n",
    "|%|np.mod|나머지 연산|"
   ]
  },
  {
   "cell_type": "code",
   "execution_count": 145,
   "id": "a62e7ecf",
   "metadata": {},
   "outputs": [
    {
     "name": "stdout",
     "output_type": "stream",
     "text": [
      "[1 2 3]\n",
      "[2 3 4]\n",
      "[2 3 4]\n"
     ]
    }
   ],
   "source": [
    "print(a1)\n",
    "print(a1 + 1)\n",
    "print(np.add(a1, 1))"
   ]
  },
  {
   "cell_type": "code",
   "execution_count": 148,
   "id": "a54490aa",
   "metadata": {},
   "outputs": [
    {
     "name": "stdout",
     "output_type": "stream",
     "text": [
      "[1 2 3]\n",
      "[-9 -8 -7]\n",
      "[-9 -8 -7]\n"
     ]
    }
   ],
   "source": [
    "print(a1)\n",
    "print(a1 - 10)\n",
    "print(np.subtract(a1, 10))"
   ]
  },
  {
   "cell_type": "code",
   "execution_count": 149,
   "id": "5c67ef2f",
   "metadata": {},
   "outputs": [
    {
     "name": "stdout",
     "output_type": "stream",
     "text": [
      "[-1 -2 -3]\n",
      "[-1 -2 -3]\n"
     ]
    }
   ],
   "source": [
    "print(-a1)\n",
    "print(np.negative(a1))"
   ]
  },
  {
   "cell_type": "code",
   "execution_count": 150,
   "id": "aef54f4b",
   "metadata": {},
   "outputs": [
    {
     "name": "stdout",
     "output_type": "stream",
     "text": [
      "[[-8 -6  5  9 -5]\n",
      " [-6  7  5 -4  6]\n",
      " [-5 -8 -6  2  0]\n",
      " [ 7  7 -4  9  6]]\n",
      "[[8 6 5 9 5]\n",
      " [6 7 5 4 6]\n",
      " [5 8 6 2 0]\n",
      " [7 7 4 9 6]]\n"
     ]
    }
   ],
   "source": [
    "# 절대값 함수(Absolute Function)\n",
    "#     absolute(), abs() : 내장된 절대값 함수\n",
    "\n",
    "a1 = np.random.randint(-10, 10, 20).reshape(4, 5)\n",
    "print(a1)\n",
    "print(np.abs(a1))"
   ]
  },
  {
   "cell_type": "code",
   "execution_count": 151,
   "id": "7a2dbf81",
   "metadata": {},
   "outputs": [
    {
     "name": "stdout",
     "output_type": "stream",
     "text": [
      "[[8 6 5 9 5]\n",
      " [6 7 5 4 6]\n",
      " [5 8 6 2 0]\n",
      " [7 7 4 9 6]]\n",
      "[[2.82842712 2.44948974 2.23606798 3.         2.23606798]\n",
      " [2.44948974 2.64575131 2.23606798 2.         2.44948974]\n",
      " [2.23606798 2.82842712 2.44948974 1.41421356 0.        ]\n",
      " [2.64575131 2.64575131 2.         3.         2.44948974]]\n"
     ]
    }
   ],
   "source": [
    "# 제곱/제곱근 함수\n",
    "#     square(), sqrt() : 내장된 제곱, 제곱근 함수\n",
    "\n",
    "b2 = np.abs(a1)\n",
    "print(b2)\n",
    "print(np.sqrt(b2))"
   ]
  },
  {
   "cell_type": "code",
   "execution_count": 153,
   "id": "cabd40c1",
   "metadata": {},
   "outputs": [
    {
     "name": "stdout",
     "output_type": "stream",
     "text": [
      "[[8 6 5 9 5]\n",
      " [6 7 5 4 6]\n",
      " [5 8 6 2 0]\n",
      " [7 7 4 9 6]]\n",
      "[[2.98095799e+03 4.03428793e+02 1.48413159e+02 8.10308393e+03\n",
      "  1.48413159e+02]\n",
      " [4.03428793e+02 1.09663316e+03 1.48413159e+02 5.45981500e+01\n",
      "  4.03428793e+02]\n",
      " [1.48413159e+02 2.98095799e+03 4.03428793e+02 7.38905610e+00\n",
      "  1.00000000e+00]\n",
      " [1.09663316e+03 1.09663316e+03 5.45981500e+01 8.10308393e+03\n",
      "  4.03428793e+02]]\n",
      "[[256.  64.  32. 512.  32.]\n",
      " [ 64. 128.  32.  16.  64.]\n",
      " [ 32. 256.  64.   4.   1.]\n",
      " [128. 128.  16. 512.  64.]]\n",
      "[[2.07944154 1.79175947 1.60943791 2.19722458 1.60943791]\n",
      " [1.79175947 1.94591015 1.60943791 1.38629436 1.79175947]\n",
      " [1.60943791 2.07944154 1.79175947 0.69314718       -inf]\n",
      " [1.94591015 1.94591015 1.38629436 2.19722458 1.79175947]]\n",
      "[[0.90308999 0.77815125 0.69897    0.95424251 0.69897   ]\n",
      " [0.77815125 0.84509804 0.69897    0.60205999 0.77815125]\n",
      " [0.69897    0.90308999 0.77815125 0.30103          -inf]\n",
      " [0.84509804 0.84509804 0.60205999 0.95424251 0.77815125]]\n"
     ]
    },
    {
     "name": "stderr",
     "output_type": "stream",
     "text": [
      "C:\\Users\\user\\AppData\\Local\\Temp/ipykernel_15860/184393075.py:6: RuntimeWarning: divide by zero encountered in log\n",
      "  print(np.log(b2))\n",
      "C:\\Users\\user\\AppData\\Local\\Temp/ipykernel_15860/184393075.py:7: RuntimeWarning: divide by zero encountered in log10\n",
      "  print(np.log10(b2))\n"
     ]
    }
   ],
   "source": [
    "# 지수와 로그함수(Exponential and Log Function)\n",
    "\n",
    "print(b2)\n",
    "print(np.exp(b2))\n",
    "print(np.exp2(b2))\n",
    "print(np.log(b2))\n",
    "print(np.log10(b2))"
   ]
  },
  {
   "cell_type": "code",
   "execution_count": 154,
   "id": "13eae509",
   "metadata": {},
   "outputs": [],
   "source": [
    "# 삼각 함수(Trigonometric Function)"
   ]
  },
  {
   "cell_type": "code",
   "execution_count": 155,
   "id": "efa3326d",
   "metadata": {},
   "outputs": [
    {
     "name": "stdout",
     "output_type": "stream",
     "text": [
      "[0.         1.57079633 3.14159265]\n",
      "[0.0000000e+00 1.0000000e+00 1.2246468e-16]\n",
      "[ 1.000000e+00  6.123234e-17 -1.000000e+00]\n",
      "[ 0.00000000e+00  1.63312394e+16 -1.22464680e-16]\n"
     ]
    }
   ],
   "source": [
    "t = np.linspace(0, np.pi, 3)\n",
    "print(t)\n",
    "print(np.sin(t))\n",
    "print(np.cos(t))\n",
    "print(np.tan(t))"
   ]
  },
  {
   "cell_type": "code",
   "execution_count": 156,
   "id": "f4474d18",
   "metadata": {},
   "outputs": [
    {
     "name": "stdout",
     "output_type": "stream",
     "text": [
      "[-1, 0, 1]\n",
      "[-1.57079633  0.          1.57079633]\n",
      "[3.14159265 1.57079633 0.        ]\n",
      "[-0.78539816  0.          0.78539816]\n"
     ]
    }
   ],
   "source": [
    "x = [-1, 0, 1]\n",
    "print(x)\n",
    "print(np.arcsin(x))\n",
    "print(np.arccos(x))\n",
    "print(np.arctan(x))"
   ]
  },
  {
   "cell_type": "markdown",
   "id": "34a2d1be",
   "metadata": {},
   "source": [
    "## 집계 함수(Aggregate Functions)\n",
    "|함수|NaN 안전 모드|설명|\n",
    "|-----|-----|-----|\n",
    "|np.sum|np.nansum|요소의 합 계산|\n",
    "|np.cumsum|np.nancumsum|요소의 누적 합|\n",
    "|np.diff||요소의 차분|\n",
    "|np.prod|np.nanprod|요소의 곱 계산|\n",
    "|np.cumprod|np.nancumprod|요소의 누적 곱|\n",
    "|np.dot||점 곱(dot product)|\n",
    "|np.matmul||행렬 곱|\n",
    "|np.tensordot||tensor 곱|\n",
    "|np.cross||벡터곱(cross product)|\n",
    "|np.inner||내적(inner product)|\n",
    "|np.outer||외적(outer product)|\n",
    "|np.mean|np.nanmean|요소의 평균 계산|\n",
    "|np.std|np.nanstd|표준 편차 계산|\n",
    "|np.var|np.nanvar|분산 계산|\n",
    "|np.min|np.nanmin|최소값|\n",
    "|np.max|np.nanmax|최대값|\n",
    "|np.argmin|np.nanargmin|최소값 인덱스|\n",
    "|np.argmax|np.nanargmax|최대값 인덱스|\n",
    "|np.median|np.nanmedian|중앙값|\n",
    "|np.percentile|np.nanpercentile|요소의 순위 기반 백분위 수 계산|\n",
    "|np.any||요소 중 참이 있는지 평가|\n",
    "|np.all||모든 요소가 참인지 평가|"
   ]
  },
  {
   "cell_type": "code",
   "execution_count": 162,
   "id": "9a576fb8",
   "metadata": {},
   "outputs": [
    {
     "name": "stdout",
     "output_type": "stream",
     "text": [
      "[[8 0 9]\n",
      " [9 4 0]\n",
      " [4 3 0]\n",
      " [7 7 4]\n",
      " [7 4 6]]\n",
      "72\n",
      "[35 18 19]\n",
      "[17 13  7 18 17]\n"
     ]
    }
   ],
   "source": [
    "# sum\n",
    "a1 = np.random.randint(0, 10, 15).reshape(5, 3)\n",
    "print(a1)\n",
    "print(np.sum(a1))\n",
    "print(np.sum(a1, axis = 0))\n",
    "print(np.sum(a1, axis = 1))"
   ]
  },
  {
   "cell_type": "code",
   "execution_count": 163,
   "id": "ac9b0de3",
   "metadata": {},
   "outputs": [
    {
     "name": "stdout",
     "output_type": "stream",
     "text": [
      "[[8 0 9]\n",
      " [9 4 0]\n",
      " [4 3 0]\n",
      " [7 7 4]\n",
      " [7 4 6]]\n",
      "[ 8  8 17 26 30 30 34 37 37 44 51 55 62 66 72]\n",
      "[[ 8  0  9]\n",
      " [17  4  9]\n",
      " [21  7  9]\n",
      " [28 14 13]\n",
      " [35 18 19]]\n",
      "[[ 8  8 17]\n",
      " [ 9 13 13]\n",
      " [ 4  7  7]\n",
      " [ 7 14 18]\n",
      " [ 7 11 17]]\n"
     ]
    }
   ],
   "source": [
    "# cumsum\n",
    "print(a1)\n",
    "print(np.cumsum(a1))\n",
    "print(np.cumsum(a1, axis = 0))\n",
    "print(np.cumsum(a1, axis = 1))"
   ]
  },
  {
   "cell_type": "code",
   "execution_count": 164,
   "id": "e056d69e",
   "metadata": {},
   "outputs": [
    {
     "name": "stdout",
     "output_type": "stream",
     "text": [
      "[[8 0 9]\n",
      " [9 4 0]\n",
      " [4 3 0]\n",
      " [7 7 4]\n",
      " [7 4 6]]\n",
      "[[-8  9]\n",
      " [-5 -4]\n",
      " [-1 -3]\n",
      " [ 0 -3]\n",
      " [-3  2]]\n",
      "[[ 1  4 -9]\n",
      " [-5 -1  0]\n",
      " [ 3  4  4]\n",
      " [ 0 -3  2]]\n",
      "[[-8  9]\n",
      " [-5 -4]\n",
      " [-1 -3]\n",
      " [ 0 -3]\n",
      " [-3  2]]\n"
     ]
    }
   ],
   "source": [
    "# diff\n",
    "print(a1)\n",
    "print(np.diff(a1))\n",
    "print(np.diff(a1, axis = 0))\n",
    "print(np.diff(a1, axis = 1))"
   ]
  },
  {
   "cell_type": "code",
   "execution_count": 165,
   "id": "24c2d76d",
   "metadata": {},
   "outputs": [
    {
     "name": "stdout",
     "output_type": "stream",
     "text": [
      "[[8 0 9]\n",
      " [9 4 0]\n",
      " [4 3 0]\n",
      " [7 7 4]\n",
      " [7 4 6]]\n",
      "0\n",
      "[14112     0     0]\n",
      "[  0   0   0 196 168]\n"
     ]
    }
   ],
   "source": [
    "# prod\n",
    "print(a1)\n",
    "print(np.prod(a1))\n",
    "print(np.prod(a1, axis = 0))\n",
    "print(np.prod(a1, axis = 1))"
   ]
  },
  {
   "cell_type": "code",
   "execution_count": 166,
   "id": "2d66d855",
   "metadata": {},
   "outputs": [
    {
     "name": "stdout",
     "output_type": "stream",
     "text": [
      "[[8 0 9]\n",
      " [9 4 0]\n",
      " [4 3 0]\n",
      " [7 7 4]\n",
      " [7 4 6]]\n",
      "[8 0 0 0 0 0 0 0 0 0 0 0 0 0 0]\n",
      "[[    8     0     9]\n",
      " [   72     0     0]\n",
      " [  288     0     0]\n",
      " [ 2016     0     0]\n",
      " [14112     0     0]]\n",
      "[[  8   0   0]\n",
      " [  9  36   0]\n",
      " [  4  12   0]\n",
      " [  7  49 196]\n",
      " [  7  28 168]]\n"
     ]
    }
   ],
   "source": [
    "# cumpord\n",
    "print(a1)\n",
    "print(np.cumprod(a1))\n",
    "print(np.cumprod(a1, axis = 0))\n",
    "print(np.cumprod(a1, axis = 1))"
   ]
  },
  {
   "cell_type": "code",
   "execution_count": 172,
   "id": "36202b07",
   "metadata": {},
   "outputs": [
    {
     "name": "stdout",
     "output_type": "stream",
     "text": [
      "a1\n",
      " [[1 2 3]\n",
      " [4 5 6]\n",
      " [7 8 9]]\n",
      "a2\n",
      " [[3 6 1 4]\n",
      " [3 7 8 2]\n",
      " [8 2 6 1]]\n",
      "[[ 33  26  35  11]\n",
      " [ 75  71  80  32]\n",
      " [117 116 125  53]]\n",
      "[[ 33  26  35  11]\n",
      " [ 75  71  80  32]\n",
      " [117 116 125  53]]\n"
     ]
    }
   ],
   "source": [
    "# dot()/matmul()\n",
    "a1 = np.arange(1, 10).reshape(3, 3)\n",
    "a2 = np.random.randint(1, 10, 12).reshape(3, 4)\n",
    "\n",
    "print(\"a1\\n\", a1)\n",
    "print(\"a2\\n\", a2)\n",
    "print(np.dot(a1, a2))\n",
    "print(np.matmul(a1, a2))"
   ]
  },
  {
   "cell_type": "code",
   "execution_count": 186,
   "id": "770fc86d",
   "metadata": {},
   "outputs": [
    {
     "name": "stdout",
     "output_type": "stream",
     "text": [
      "[[1 2 3]\n",
      " [4 5 6]\n",
      " [7 8 9]]\n",
      "[[12 13 14]\n",
      " [15 16 17]\n",
      " [18 19 20]]\n",
      "780\n"
     ]
    }
   ],
   "source": [
    "# tensordot() : tensor 곱 계산\n",
    "a1 = np.arange(1, 10).reshape(3, 3)\n",
    "a2 = np.arange(12, 21).reshape(3, 3)\n",
    "\n",
    "print(a1)\n",
    "print(a2)\n",
    "\n",
    "print(np.tensordot(a1, a2))"
   ]
  },
  {
   "cell_type": "code",
   "execution_count": 187,
   "id": "ee4cc410",
   "metadata": {},
   "outputs": [
    {
     "name": "stdout",
     "output_type": "stream",
     "text": [
      "[-3  3 -1]\n"
     ]
    }
   ],
   "source": [
    "# cross\n",
    "x = [1, 2, 3]\n",
    "y = [3, 5, 6]\n",
    "print(np.cross(x, y))"
   ]
  },
  {
   "cell_type": "markdown",
   "id": "9765a82f",
   "metadata": {},
   "source": [
    "## 비교연산(Comparison Operators)\n",
    "|연산자|비교 범용 함수|\n",
    "|-----|-----|\n",
    "|==|np.eqaul|\n",
    "|!=|np.not_equal|\n",
    "|<|np.less|\n",
    "|<=|np.less_equal|\n",
    "|>|np.greater|\n",
    "|>=|np.greater_equal|"
   ]
  },
  {
   "cell_type": "code",
   "execution_count": 200,
   "id": "85612f02",
   "metadata": {},
   "outputs": [
    {
     "name": "stdout",
     "output_type": "stream",
     "text": [
      "[1 2 3 4 5 6 7 8 9]\n"
     ]
    }
   ],
   "source": [
    "a1 = np.arange(1, 10)\n",
    "print(a1)"
   ]
  },
  {
   "cell_type": "code",
   "execution_count": 202,
   "id": "eb5665be",
   "metadata": {},
   "outputs": [
    {
     "name": "stdout",
     "output_type": "stream",
     "text": [
      "[False False False  True False False False False False]\n",
      "[False False False False  True  True  True  True  True]\n",
      "[ True  True  True  True  True  True False False False]\n",
      "4\n",
      "30\n",
      "True\n"
     ]
    }
   ],
   "source": [
    "print(a1 == 4)\n",
    "print(a1 > 4)\n",
    "print(a1 < 7)\n",
    "print(np.sum(a1 > 5))    # the number of a1 > 5 contents\n",
    "print(np.sum(a1[a1>5]))  # sum of a1 > 5 contents\n",
    "print(np.any(a2 > 5))\n"
   ]
  },
  {
   "cell_type": "code",
   "execution_count": 194,
   "id": "60c21ad0",
   "metadata": {},
   "outputs": [
    {
     "data": {
      "text/plain": [
       "array([5, 6, 7, 8, 9])"
      ]
     },
     "execution_count": 194,
     "metadata": {},
     "output_type": "execute_result"
    }
   ],
   "source": [
    "a1[a1 > 4]"
   ]
  },
  {
   "cell_type": "markdown",
   "id": "c8c77c4e",
   "metadata": {},
   "source": [
    "|비교 범용 함수|설명|\n",
    "|-----|-----|\n",
    "|np.isclose|배열 두개가 (z*100)% 내외로 가까우면 True, 아니면 False|\n",
    "|np.isinf|배열이 inf이면 True, 아니면 False|\n",
    "|np.isfinite|배열이 inf, nan이면 false, 아니면(finite이며,  True|\n",
    "|np.isnan|배열이 nan이면 True, 아니면 False|"
   ]
  },
  {
   "cell_type": "code",
   "execution_count": 203,
   "id": "ef88d9c9",
   "metadata": {},
   "outputs": [
    {
     "name": "stdout",
     "output_type": "stream",
     "text": [
      "[1 2 3 4 5]\n",
      "[1 2 3 3 4]\n",
      "[ True  True  True False False]\n"
     ]
    }
   ],
   "source": [
    "a1 = np.array([1, 2, 3, 4, 5])\n",
    "print(a1)\n",
    "b1 = np.array([1, 2, 3, 3, 4])\n",
    "# np.isclose\n",
    "print(b1)\n",
    "print(np.isclose(a1, b1))"
   ]
  },
  {
   "cell_type": "code",
   "execution_count": 205,
   "id": "8393d155",
   "metadata": {},
   "outputs": [
    {
     "name": "stdout",
     "output_type": "stream",
     "text": [
      "[ nan   2.  inf   4. -inf]\n",
      "isnan [ True False False False False]\n",
      "isfinite [False  True False  True False]\n",
      "isinf [False False  True False  True]\n"
     ]
    }
   ],
   "source": [
    "a1 = np.array([np.nan, 2, np.inf, 4, np.NINF])\n",
    "print(a1)\n",
    "print(\"isnan\", np.isnan(a1))\n",
    "print(\"isfinite\", np.isfinite(a1))\n",
    "print(\"isinf\", np.isinf(a1))"
   ]
  },
  {
   "cell_type": "markdown",
   "id": "d4fd2752",
   "metadata": {},
   "source": [
    "### Boolean Operators\n",
    "|연산자|비교 범용 함수|\n",
    "|-----|-----|\n",
    "|&|np.bitwise_and|\n",
    "|\\||np.bitwise_or|\n",
    "|^|np.bitwise_xor|\n",
    "|~|np.bitwise_not|"
   ]
  },
  {
   "cell_type": "code",
   "execution_count": 213,
   "id": "380d6456",
   "metadata": {},
   "outputs": [
    {
     "name": "stdout",
     "output_type": "stream",
     "text": [
      "[[1 2 3]\n",
      " [4 5 6]\n",
      " [7 8 9]]\n",
      "[[False False False]\n",
      " [False False  True]\n",
      " [ True False False]]\n",
      "[6 7]\n",
      "[[ True  True  True]\n",
      " [ True  True  True]\n",
      " [ True  True  True]]\n",
      "[1 2 3 4 5 6 7 8 9]\n",
      "[[ True  True  True]\n",
      " [ True  True False]\n",
      " [False  True  True]]\n",
      "[1 2 3 4 5 8 9]\n",
      "[[ True  True  True]\n",
      " [ True  True  True]\n",
      " [ True False False]]\n",
      "[1 2 3 4 5 6 7]\n"
     ]
    }
   ],
   "source": [
    "a2 = np.arange(1, 10).reshape(3, 3)\n",
    "\n",
    "print(a2)\n",
    "print((a2 > 5) & (a2 < 8))\n",
    "print(a2[(a2 > 5) & (a2 < 8)])\n",
    "\n",
    "print((a2 > 5) | (a2 < 8))\n",
    "print(a2[(a2 > 5) | (a2 < 8)])\n",
    "\n",
    "print((a2 > 5) ^ (a2 < 8))\n",
    "print(a2[(a2 > 5) ^ (a2 < 8)])\n",
    "\n",
    "print(~(a2 > 5) | (a2 < 8))\n",
    "print(a2[~(a2 > 5) | (a2 < 8)])"
   ]
  },
  {
   "cell_type": "markdown",
   "id": "a2bdd217",
   "metadata": {},
   "source": [
    "## 배열 정렬"
   ]
  },
  {
   "cell_type": "code",
   "execution_count": 214,
   "id": "eefb20b8",
   "metadata": {},
   "outputs": [
    {
     "name": "stdout",
     "output_type": "stream",
     "text": [
      "[6 1 7 7 4 1 6 8 4 2]\n",
      "[1 1 2 4 4 6 6 7 7 8]\n",
      "[6 1 7 7 4 1 6 8 4 2]\n",
      "[1 5 9 4 8 0 6 2 3 7]\n",
      "[6 1 7 7 4 1 6 8 4 2]\n"
     ]
    }
   ],
   "source": [
    "a1 = np.random.randint(1, 10, size = 10)\n",
    "\n",
    "print(a1)\n",
    "print(np.sort(a1))\n",
    "print(a1)    # np.sort(a1) -> Original array a1의 순서를 변경시키지 않았음 확인\n",
    "print(np.argsort(a1))    # np.argsort -> a1의 index가 어떻게 위치해야 sort가 되는지를 보여줌\n",
    "print(a1)"
   ]
  },
  {
   "cell_type": "code",
   "execution_count": 217,
   "id": "42b8266e",
   "metadata": {},
   "outputs": [
    {
     "name": "stdout",
     "output_type": "stream",
     "text": [
      "[[1 7 1]\n",
      " [2 5 4]\n",
      " [9 6 1]]\n",
      "[[1 1 7]\n",
      " [2 4 5]\n",
      " [1 6 9]]\n",
      "[[1 5 1]\n",
      " [2 6 1]\n",
      " [9 7 4]]\n",
      "[[1 1 7]\n",
      " [2 4 5]\n",
      " [1 6 9]]\n"
     ]
    }
   ],
   "source": [
    "a1 = np.random.randint(1, 10, size = (3, 3))\n",
    "\n",
    "print(a1)\n",
    "print(np.sort(a1))\n",
    "print(np.sort(a1, axis = 0))\n",
    "print(np.sort(a1, axis = 1))"
   ]
  },
  {
   "cell_type": "markdown",
   "id": "af4c8912",
   "metadata": {},
   "source": [
    "### 부분정렬\n",
    "- partition() : 배열에서 k개의 작은 값을 반환"
   ]
  },
  {
   "cell_type": "code",
   "execution_count": 218,
   "id": "fd22c762",
   "metadata": {},
   "outputs": [
    {
     "name": "stdout",
     "output_type": "stream",
     "text": [
      "[2 9 6 1 2 5 6 6 8 9]\n",
      "[1 2 2 5 6 6 6 9 8 9]\n"
     ]
    }
   ],
   "source": [
    "a1 = np.random.randint(1, 10, size = 10)\n",
    "print(a1)\n",
    "print(np.partition(a1, 3))"
   ]
  },
  {
   "cell_type": "markdown",
   "id": "b4c6467d",
   "metadata": {},
   "source": [
    "## 배열 입출력\n",
    "|함수|설명|파일 종류|\n",
    "|-----|-----|-----|\n",
    "|np.save()|Numpy 배열 객체 1개를 파일에 저장|바이너리|\n",
    "|np.savez()|Numpy 배열 객체 여러개를 파일에 저장|바이너리|\n",
    "|np.load()|Numpy 배열 저장 파일로부터 객체 로딩|바이너리|\n",
    "|np.loadtxt()|Text file로부터 array 로딩|text|\n",
    "|np.savetext()|Text file에 Nupy 배열 객체 저장|텍스트|"
   ]
  },
  {
   "cell_type": "code",
   "execution_count": 221,
   "id": "6d5116c9",
   "metadata": {},
   "outputs": [
    {
     "name": "stdout",
     "output_type": "stream",
     "text": [
      "[[ 1  2  3  4  5  6  7  8  9]\n",
      " [10 11 12 13 14 15 16 17 18]\n",
      " [19 20 21 22 23 24 25 26 27]\n",
      " [28 29 30 31 32 33 34 35 36]\n",
      " [37 38 39 40 41 42 43 44 45]\n",
      " [46 47 48 49 50 51 52 53 54]\n",
      " [55 56 57 58 59 60 61 62 63]\n",
      " [64 65 66 67 68 69 70 71 72]\n",
      " [73 74 75 76 77 78 79 80 81]]\n"
     ]
    }
   ],
   "source": [
    "a1 = np.arange(1, 82).reshape(9, 9)\n",
    "print(a1)\n",
    "np.save(\"a1\", a1)"
   ]
  },
  {
   "cell_type": "code",
   "execution_count": 222,
   "id": "50e9a99c",
   "metadata": {},
   "outputs": [
    {
     "name": "stdout",
     "output_type": "stream",
     "text": [
      " C 드라이브의 볼륨에는 이름이 없습니다.\n",
      " 볼륨 일련 번호: 1CCB-9DB3\n",
      "\n",
      " C:\\Users\\user\\Desktop\\이수안컴퓨터연구소Lectures\\Numpy 디렉터리\n",
      "\n",
      "2022-01-18  오후 09:04    <DIR>          .\n",
      "2022-01-18  오후 09:04    <DIR>          ..\n",
      "2022-01-18  오후 03:35    <DIR>          .ipynb_checkpoints\n",
      "2022-01-18  오후 09:04               452 a1.npy\n",
      "2022-01-18  오후 09:03            70,684 Numpy_prac.ipynb\n",
      "               2개 파일              71,136 바이트\n",
      "               3개 디렉터리  410,486,611,968 바이트 남음\n"
     ]
    }
   ],
   "source": [
    "ls"
   ]
  },
  {
   "cell_type": "code",
   "execution_count": 224,
   "id": "e2bef404",
   "metadata": {},
   "outputs": [
    {
     "name": "stdout",
     "output_type": "stream",
     "text": [
      "[[6 2 1]\n",
      " [2 4 9]\n",
      " [7 2 1]]\n"
     ]
    }
   ],
   "source": [
    "b1 = np.random.randint(1, 10, (3, 3))\n",
    "print(b1)\n",
    "np.savez(\"b1\", a1, b2)"
   ]
  },
  {
   "cell_type": "code",
   "execution_count": 225,
   "id": "f91a3b8f",
   "metadata": {},
   "outputs": [
    {
     "name": "stdout",
     "output_type": "stream",
     "text": [
      " C 드라이브의 볼륨에는 이름이 없습니다.\n",
      " 볼륨 일련 번호: 1CCB-9DB3\n",
      "\n",
      " C:\\Users\\user\\Desktop\\이수안컴퓨터연구소Lectures\\Numpy 디렉터리\n",
      "\n",
      "2022-01-18  오후 09:05    <DIR>          .\n",
      "2022-01-18  오후 09:05    <DIR>          ..\n",
      "2022-01-18  오후 03:35    <DIR>          .ipynb_checkpoints\n",
      "2022-01-18  오후 09:04               452 a1.npy\n",
      "2022-01-18  오후 09:05               866 b1.npz\n",
      "2022-01-18  오후 09:05            70,685 Numpy_prac.ipynb\n",
      "               3개 파일              72,003 바이트\n",
      "               3개 디렉터리  410,489,561,088 바이트 남음\n"
     ]
    }
   ],
   "source": [
    "ls"
   ]
  },
  {
   "cell_type": "code",
   "execution_count": 227,
   "id": "f50a8a6f",
   "metadata": {},
   "outputs": [
    {
     "name": "stdout",
     "output_type": "stream",
     "text": [
      "[[ 1  2  3  4  5  6  7  8  9]\n",
      " [10 11 12 13 14 15 16 17 18]\n",
      " [19 20 21 22 23 24 25 26 27]\n",
      " [28 29 30 31 32 33 34 35 36]\n",
      " [37 38 39 40 41 42 43 44 45]\n",
      " [46 47 48 49 50 51 52 53 54]\n",
      " [55 56 57 58 59 60 61 62 63]\n",
      " [64 65 66 67 68 69 70 71 72]\n",
      " [73 74 75 76 77 78 79 80 81]]\n"
     ]
    }
   ],
   "source": [
    "npy = np.load('a1.npy')\n",
    "print(npy)"
   ]
  },
  {
   "cell_type": "code",
   "execution_count": 232,
   "id": "1a88463f",
   "metadata": {},
   "outputs": [
    {
     "name": "stdout",
     "output_type": "stream",
     "text": [
      "['arr_0', 'arr_1']\n",
      "[[ 1  2  3  4  5  6  7  8  9]\n",
      " [10 11 12 13 14 15 16 17 18]\n",
      " [19 20 21 22 23 24 25 26 27]\n",
      " [28 29 30 31 32 33 34 35 36]\n",
      " [37 38 39 40 41 42 43 44 45]\n",
      " [46 47 48 49 50 51 52 53 54]\n",
      " [55 56 57 58 59 60 61 62 63]\n",
      " [64 65 66 67 68 69 70 71 72]\n",
      " [73 74 75 76 77 78 79 80 81]]\n",
      "[[8 8 1]\n",
      " [4 7 7]\n",
      " [7 1 2]]\n"
     ]
    }
   ],
   "source": [
    "npz = np.load('b1.npz')\n",
    "print(npz.files)\n",
    "print(npz['arr_0'])\n",
    "print(npz['arr_1'])"
   ]
  },
  {
   "cell_type": "code",
   "execution_count": 233,
   "id": "eadd1ba6",
   "metadata": {},
   "outputs": [
    {
     "name": "stdout",
     "output_type": "stream",
     "text": [
      "[[1 2 3]\n",
      " [4 5 6]\n",
      " [7 8 9]]\n"
     ]
    }
   ],
   "source": [
    "print(a2)\n",
    "np.savetxt(\"a.txt\", a2)"
   ]
  },
  {
   "cell_type": "code",
   "execution_count": 234,
   "id": "4afdc589",
   "metadata": {},
   "outputs": [
    {
     "name": "stdout",
     "output_type": "stream",
     "text": [
      " C 드라이브의 볼륨에는 이름이 없습니다.\n",
      " 볼륨 일련 번호: 1CCB-9DB3\n",
      "\n",
      " C:\\Users\\user\\Desktop\\이수안컴퓨터연구소Lectures\\Numpy 디렉터리\n",
      "\n",
      "2022-01-18  오후 09:07    <DIR>          .\n",
      "2022-01-18  오후 09:07    <DIR>          ..\n",
      "2022-01-18  오후 03:35    <DIR>          .ipynb_checkpoints\n",
      "2022-01-18  오후 09:07               228 a.txt\n",
      "2022-01-18  오후 09:04               452 a1.npy\n",
      "2022-01-18  오후 09:05               866 b1.npz\n",
      "2022-01-18  오후 09:05            72,223 Numpy_prac.ipynb\n",
      "               4개 파일              73,769 바이트\n",
      "               3개 디렉터리  410,489,585,664 바이트 남음\n"
     ]
    }
   ],
   "source": [
    "ls"
   ]
  },
  {
   "cell_type": "code",
   "execution_count": 235,
   "id": "e6aa859b",
   "metadata": {},
   "outputs": [],
   "source": [
    "np.savetxt(\"a.csv\", a2)"
   ]
  },
  {
   "cell_type": "code",
   "execution_count": 239,
   "id": "e6329fd7",
   "metadata": {},
   "outputs": [],
   "source": [
    "csv = np.loadtxt(\"a.csv\", delimiter = ' ')\n",
    "txt = np.loadtxt(\"a.txt\")"
   ]
  },
  {
   "cell_type": "code",
   "execution_count": 240,
   "id": "b2bc6981",
   "metadata": {},
   "outputs": [
    {
     "data": {
      "text/plain": [
       "array([[1., 2., 3.],\n",
       "       [4., 5., 6.],\n",
       "       [7., 8., 9.]])"
      ]
     },
     "execution_count": 240,
     "metadata": {},
     "output_type": "execute_result"
    }
   ],
   "source": [
    "csv"
   ]
  },
  {
   "cell_type": "code",
   "execution_count": 241,
   "id": "13a01aeb",
   "metadata": {},
   "outputs": [
    {
     "data": {
      "text/plain": [
       "array([[1., 2., 3.],\n",
       "       [4., 5., 6.],\n",
       "       [7., 8., 9.]])"
      ]
     },
     "execution_count": 241,
     "metadata": {},
     "output_type": "execute_result"
    }
   ],
   "source": [
    "txt"
   ]
  },
  {
   "cell_type": "code",
   "execution_count": null,
   "id": "9685f021",
   "metadata": {},
   "outputs": [],
   "source": [
    "# save array into txt file with desirable foramt -> by user decision\n",
    "\n",
    "print(b2)\n"
   ]
  }
 ],
 "metadata": {
  "kernelspec": {
   "display_name": "Python 3 (ipykernel)",
   "language": "python",
   "name": "python3"
  },
  "language_info": {
   "codemirror_mode": {
    "name": "ipython",
    "version": 3
   },
   "file_extension": ".py",
   "mimetype": "text/x-python",
   "name": "python",
   "nbconvert_exporter": "python",
   "pygments_lexer": "ipython3",
   "version": "3.9.7"
  }
 },
 "nbformat": 4,
 "nbformat_minor": 5
}
