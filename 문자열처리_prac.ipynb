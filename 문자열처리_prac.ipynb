{
 "cells": [
  {
   "cell_type": "markdown",
   "id": "8ab0a7ca",
   "metadata": {},
   "source": [
    "# 문자열 Method 정리\n",
    "Python은 문자열 처리를 아주 쉽게 처리할 수 있는 많은 메소드를 제공한다.\n",
    "문자열을 다루는 주요 메소드들은 아래와 같다.\n",
    "\n",
    "|함수|설명|\n",
    "|-----|-----|\n",
    "|capitalize()|첫 문자를 대문자로하고, 나머지 문자를 소문자로 하는 문자열 반환|\n",
    "|casefold()|모든 대소문자 구분을 제거|\n",
    "|count(sub, [, start[, end]]) |[start, end] 범위에서 부분 문자열 sub의 중복되지 않은 수를 반환|\n",
    "|find(sub [, start[, end]])|[start, end]에서 부분문자열 sub가 문자열의 가장 작은 index를 반환한다. sub가 발견되지 않는 경우는 -1을 반환한다.|\n",
    "|rfind(sub [, start[, end]])|[start, end]에서 부분 문자열 sub가 문자열의 가장 작은 큰 인덱스를 반환한다. sub가 발견되지 안흔 경우는 -1을 반환한다.|\n",
    "|index(sub [, start[, end]])|find()와 유사하지만 부분 문자열 sub가 없으면 value error가 발생한다.|\n",
    "|rindex(sub [, start[, end]])|rfind()와 유사하지만 부분 문자열 sub가 없으면 value error가 발생한다.|\n",
    "|isalnum()|문자열의 모든 문자가 영숫자로 1개 이상 있으면 True, 아니면 False 반환|\n",
    "|isalpha()|문자열의 모든 문자가 영문자로 1개 이상 있으면 True, 아니면 False 반환|\n",
    "|isdecimal()|문자열의 모든 문자가 10진수 문자이며 1개 이상 있을 때 True, 그렇지 않으면 False 반환|\n",
    "|isdigit()|문자열의 모든 문자가 숫자이며 1개 이상 있을 때 True, 그렇지 않으면 False 반환|\n",
    "|isnumeric()|문자열의 모든 문자가 수치형이며 1개 이상 있을 때 True, 그렇지 않으면 False 반환|\n",
    "|isidentifier()|문자열이 유효한 식별자인 경우 True 반환|\n",
    "|isspace()|문자열 내에 공백 문자가 있고, 문자가 1개 이상 있으면 True, 그렇지 않으면 False|\n",
    "|istitle()|문자열이 제목이 있는 문자열에 문자가 1개 이상 있으면 True, 그렇지 않으면 False|\n",
    "|islower()|문자열의 모든 문자가 소문자이며 1개이상 있을 때 True, 그렇지 않으면 False|\n",
    "|isupper()|문자열의 모든 문자가 대문자이며 1개이상 있을 때 True, 그렇지 않으면 False|\n",
    "|join(iterable)|iterable에 있는 문자열에 연결된 문자열을 반환한다.|\n",
    "|center(width [, fillchar])|길이 너비만큼 중앙정렬된 문자열 반환|\n",
    "|ljust(width [, fillchar])|너비만큼의 문자열에서 왼쪽 정렬된 문자열을 반환|\n",
    "|rjust(widht [, fillchar])|너비만큼의 문자열에서 오른쪽 정렬된 문자열을 반환|\n",
    "|lower()|모든 대소문자가 소문자로 변환된 문자열을 반환|\n",
    "|upper()|모든 대소문자가 대문자로 변환된 문자열을 반환|\n",
    "|title()|문자열에서 첫 글자만 대문자이고 나머지는 소문자인 문자열 반환|\n",
    "|swapcase()|문자열에서 소문자를 대문자로 대문자를 소문자로 변환한 문자열 반환|\n",
    "|strip([chars])|문자열 양쪽에 지정된 chars 혹은 공백을 제거한 문자열을 반환|\n",
    "|lstrip([chars])|문자열 왼쪽에 지정된 chars 또는 공백을 제거한 문자열을 반환|\n",
    "|rstrip([chars])|문자열 오른쪽에 지정된 chars 또는 공백을 제거한 문자열을 반환|\n",
    "|partition(sep)|문자열에서 첫번째 sep을 기준으로 분할하여 3개의 tuple을 반환|\n",
    "|rpartition(sep)|문자열에서 마지막 sep을 기준으로 분할하여 3개의 tuple을 반환|\n",
    "|replace(old, new[, count])|문자열의 모든 old를 new로 교체한 문자열을 반환|\n",
    "|split(sep = None, maxsplit = 1)|sep를 구분자 문자열로 사용하여 문자열의 단어 목록을 반환|\n",
    "|rsplit(sep = None, maxsplit = 1)|sep를 구분자 문자열로 사용하여 문자열의 단어 목록을 반환|\n",
    "|splitlines([keepens])|문자열에서 라인 단위로 구분하여 리스트를 반환한다.|\n",
    "|startswtih(prefix [, start[, end]])|[start, end] 범위에서 지정한 prefix로 시작하면 True, 아니면 False 반환|\n",
    "|endswith(suffix [, start[, end]])|[start, end] 범위에서 지정한 suffix로 끝나면 True, 아니면 False 반환|\n",
    "|zfill(width)|너비 만큼의 문자열에서 비어있는 부분에 '0'이 채워진 문자열 반환|"
   ]
  },
  {
   "cell_type": "code",
   "execution_count": 1,
   "id": "d4854657",
   "metadata": {},
   "outputs": [],
   "source": [
    "# capitalizie() / casefold()\n",
    "# 문자열 'String'에 대해 capitalize()를 실행하면, 첫 문자가 대문자인 'String' 문자열로 변환\n",
    "# 문자열 'String'에 대해 casefold()를 실행하며, 모든 문자가 소문자인 'string' 문자열로 변환"
   ]
  },
  {
   "cell_type": "code",
   "execution_count": 2,
   "id": "fcceee8c",
   "metadata": {},
   "outputs": [
    {
     "name": "stdout",
     "output_type": "stream",
     "text": [
      "string\n",
      "String\n",
      "string\n"
     ]
    }
   ],
   "source": [
    "s = 'string'\n",
    "print(s)\n",
    "s = s.capitalize()\n",
    "print(s)\n",
    "s = s.casefold()\n",
    "print(s)"
   ]
  },
  {
   "cell_type": "code",
   "execution_count": 3,
   "id": "46d58e98",
   "metadata": {},
   "outputs": [],
   "source": [
    "# count()\n",
    "# 문자열 \"string string\"에 포함된 문자 's'의 갯수를 반환하도록 count()를 실행\n",
    "# 문자 's'가 총 2개 존재하므로 2를 반환\n",
    "# 부분 문자열 \"str\"이 몇개인지 반환하는 것도 가능하고, 부분 문자열 \"str\"이 총 2개 존재하므로 2를 반환"
   ]
  },
  {
   "cell_type": "code",
   "execution_count": 4,
   "id": "fda0646c",
   "metadata": {},
   "outputs": [
    {
     "name": "stdout",
     "output_type": "stream",
     "text": [
      "string string\n",
      "number of 's' is 2. and number of 'str' is 2\n"
     ]
    }
   ],
   "source": [
    "s = \"string string\"\n",
    "print(s)\n",
    "num_s = s.count('s')\n",
    "num_str = s.count('str')\n",
    "print(\"number of 's' is {}. and number of 'str' is {}\".format(num_s, num_str))"
   ]
  },
  {
   "cell_type": "code",
   "execution_count": 5,
   "id": "d77d7d5a",
   "metadata": {},
   "outputs": [],
   "source": [
    "# find() / rfind()\n",
    "# 문자열 \"string string\"에서 문자 's'의 해당 위치를 find()를 통해 반환\n",
    "# 문자열 \"string string\"에서 부분 문자열 'ing'의 해당위치를 find()를 통해 반환\n",
    "\n",
    "# 문자열 \"string string\"에서 문자 's'의 해당 위치를 rfind()를 통해 오른쪽부터 탐색하여 가장 큰 index를 반환\n",
    "# 문자열 \"string string\"에서 부분 문자열 'ing'의 해당위치를 rfind()를 통해 오른쪽부터 탐색하여 가장 큰 index를 반환"
   ]
  },
  {
   "cell_type": "code",
   "execution_count": 6,
   "id": "1f8f33b0",
   "metadata": {},
   "outputs": [
    {
     "name": "stdout",
     "output_type": "stream",
     "text": [
      "string string\n",
      "0 3 7 10\n"
     ]
    }
   ],
   "source": [
    "s = \"string string\"\n",
    "print(s)\n",
    "idx1 = s.find('s')\n",
    "idx2 = s.find('ing')\n",
    "idx3 = s.rfind('s')\n",
    "idx4 = s.rfind('ing')\n",
    "\n",
    "print(idx1, idx2, idx3, idx4)"
   ]
  },
  {
   "cell_type": "code",
   "execution_count": 7,
   "id": "7d8407a0",
   "metadata": {},
   "outputs": [],
   "source": [
    "# index() / rindex()\n",
    "# 문자열 \"string string\"에서 문자 's'의 해당 위치를 index()를 통해 반환\n",
    "# 문자열 \"string string\"에서 부분 문자열 \"ing\"의 해당 위치를 index()를 통해 반환\n",
    "\n",
    "# 문자열 \"string string\"에서 문자 's'의 해당 위치를 rindex()를 통해 오른쪽부터 탐색하여 가장 큰 index를 반환\n",
    "# 문자열 \"string string\"에서 부분 문자열 \"ring\"의 해당 위치를 rindex()를 통해 오른쪽 부터 탐색하여 가장 큰 index를 반환\n",
    "\n",
    "# 문자열 \"string string\"에서 문자 'z'의 위치를 해당위치를 rindex()를 통해 탐색하지만 찾을수 없어서 value error 발생"
   ]
  },
  {
   "cell_type": "code",
   "execution_count": 8,
   "id": "bb5e1589",
   "metadata": {},
   "outputs": [
    {
     "name": "stdout",
     "output_type": "stream",
     "text": [
      "string string\n",
      "0 3 7 9\n"
     ]
    }
   ],
   "source": [
    "s = \"string string\"\n",
    "print(s)\n",
    "\n",
    "idx1 = s.index('s')\n",
    "idx2 = s.index('ing')\n",
    "idx3 = s.rindex('s')\n",
    "idx4 = s.rindex('ring')\n",
    "\n",
    "print(idx1, idx2, idx3, idx4)"
   ]
  },
  {
   "cell_type": "code",
   "execution_count": 9,
   "id": "d5f5ea66",
   "metadata": {},
   "outputs": [
    {
     "ename": "ValueError",
     "evalue": "substring not found",
     "output_type": "error",
     "traceback": [
      "\u001b[1;31m---------------------------------------------------------------------------\u001b[0m",
      "\u001b[1;31mValueError\u001b[0m                                Traceback (most recent call last)",
      "\u001b[1;32m~\\AppData\\Local\\Temp/ipykernel_5856/1387017395.py\u001b[0m in \u001b[0;36m<module>\u001b[1;34m\u001b[0m\n\u001b[1;32m----> 1\u001b[1;33m \u001b[0midx5\u001b[0m \u001b[1;33m=\u001b[0m \u001b[0ms\u001b[0m\u001b[1;33m.\u001b[0m\u001b[0mrindex\u001b[0m\u001b[1;33m(\u001b[0m\u001b[1;34m'z'\u001b[0m\u001b[1;33m)\u001b[0m\u001b[1;33m\u001b[0m\u001b[1;33m\u001b[0m\u001b[0m\n\u001b[0m",
      "\u001b[1;31mValueError\u001b[0m: substring not found"
     ]
    }
   ],
   "source": [
    "idx5 = s.rindex('z')"
   ]
  },
  {
   "cell_type": "code",
   "execution_count": 10,
   "id": "17dace0c",
   "metadata": {},
   "outputs": [],
   "source": [
    "# isalnum()\n",
    "# isalnum()은 문자열이 알파벳이나 숫자로 구성되어 있으며 1개이상 있으면 True를 반환한다.\n",
    "# 문자열 \"string\"은 알파벳으로 구성 되었으므로 True\n",
    "# 문자열 \"%$#%\"은 알파벳이 없기에 False\n",
    "# 문자열 \"한글\"은 알파벳으로 구성되어있으므로 True\n",
    "# 문자열 \"123\"은 숫자로 구성되어있으므로 True"
   ]
  },
  {
   "cell_type": "code",
   "execution_count": 13,
   "id": "3667108f",
   "metadata": {},
   "outputs": [
    {
     "name": "stdout",
     "output_type": "stream",
     "text": [
      "True\n",
      "True\n",
      "False\n",
      "True\n",
      "False\n"
     ]
    }
   ],
   "source": [
    "print(\"string\".isalnum())\n",
    "print(\"한글\".isalnum())\n",
    "print(\"@@%\".isalnum())\n",
    "print(\"1234\".isalnum())\n",
    "print(\"!##%!`3 abc\".isalnum())"
   ]
  },
  {
   "cell_type": "code",
   "execution_count": 14,
   "id": "bc0f4e5f",
   "metadata": {},
   "outputs": [],
   "source": [
    "# isalpha()"
   ]
  },
  {
   "cell_type": "code",
   "execution_count": 15,
   "id": "908eecfd",
   "metadata": {},
   "outputs": [
    {
     "name": "stdout",
     "output_type": "stream",
     "text": [
      "True\n",
      "True\n",
      "False\n",
      "False\n",
      "False\n"
     ]
    }
   ],
   "source": [
    "print(\"string\".isalpha())\n",
    "print(\"한글\".isalpha())\n",
    "print(\"@@%\".isalpha())\n",
    "print(\"1234\".isalpha())\n",
    "print(\"!##%!`3 abc\".isalpha())"
   ]
  },
  {
   "cell_type": "code",
   "execution_count": 16,
   "id": "af17202e",
   "metadata": {},
   "outputs": [],
   "source": [
    "# isdecimal()"
   ]
  },
  {
   "cell_type": "code",
   "execution_count": 22,
   "id": "5f4ee23b",
   "metadata": {},
   "outputs": [
    {
     "name": "stdout",
     "output_type": "stream",
     "text": [
      "False\n",
      "False\n",
      "False\n",
      "True\n",
      "False\n",
      "False\n"
     ]
    }
   ],
   "source": [
    "print(\"string\".isdecimal())\n",
    "print(\"한글\".isdecimal())\n",
    "print(\"@@%\".isdecimal())\n",
    "print(\"1234\".isdecimal())\n",
    "print(\"!##%!`3 abc\".isdecimal())\n",
    "print(\"1.234\".isdecimal())"
   ]
  },
  {
   "cell_type": "code",
   "execution_count": 18,
   "id": "a37808d7",
   "metadata": {},
   "outputs": [],
   "source": [
    "# isdigit()"
   ]
  },
  {
   "cell_type": "code",
   "execution_count": 23,
   "id": "264003cf",
   "metadata": {},
   "outputs": [
    {
     "name": "stdout",
     "output_type": "stream",
     "text": [
      "False\n",
      "False\n",
      "False\n",
      "True\n",
      "False\n",
      "False\n"
     ]
    }
   ],
   "source": [
    "print(\"string\".isdigit())\n",
    "print(\"한글\".isdigit())\n",
    "print(\"@@%\".isdigit())\n",
    "print(\"1234\".isdigit())\n",
    "print(\"!##%!`3 abc\".isdigit())\n",
    "print(\"1.234\".isdigit())"
   ]
  },
  {
   "cell_type": "code",
   "execution_count": 20,
   "id": "8ad7bf56",
   "metadata": {},
   "outputs": [],
   "source": [
    "# isnumeric()"
   ]
  },
  {
   "cell_type": "code",
   "execution_count": 24,
   "id": "0121d5fe",
   "metadata": {},
   "outputs": [
    {
     "name": "stdout",
     "output_type": "stream",
     "text": [
      "False\n",
      "False\n",
      "False\n",
      "True\n",
      "False\n",
      "False\n"
     ]
    }
   ],
   "source": [
    "print(\"string\".isnumeric())\n",
    "print(\"한글\".isnumeric())\n",
    "print(\"@@%\".isnumeric())\n",
    "print(\"1234\".isnumeric())\n",
    "print(\"!##%!`3 abc\".isnumeric())\n",
    "print(\"1.234\".isnumeric())"
   ]
  },
  {
   "cell_type": "code",
   "execution_count": 27,
   "id": "9c5a783d",
   "metadata": {},
   "outputs": [],
   "source": [
    "# isidentifier()\n",
    "# isidentifier()는 문자열이 파이썬에서 사용하는 식별자인 경우에 True 반환\n",
    "# 문자열 \"123\"은 식별자로 사용되지 않고 있기 때문에 False 반환\n",
    "# 문자열 \"print\"는 식별자로 사용되고 있기 때문에 True 반환\n",
    "# 문자열 \"True\"는 식별자로 사용되고 있기 때문에 True 반환"
   ]
  },
  {
   "cell_type": "code",
   "execution_count": 29,
   "id": "d77ca005",
   "metadata": {},
   "outputs": [
    {
     "name": "stdout",
     "output_type": "stream",
     "text": [
      "False\n",
      "True\n",
      "True\n"
     ]
    }
   ],
   "source": [
    "print(\"123\".isidentifier())\n",
    "print(\"print\".isidentifier())\n",
    "print(\"True\".isidentifier())"
   ]
  },
  {
   "cell_type": "code",
   "execution_count": 30,
   "id": "3e267fc1",
   "metadata": {},
   "outputs": [],
   "source": [
    "# isspace()\n",
    "# 문자열 \" \"은 문자열 내에 공백문자가 있어서 True를 반환\n",
    "# 문자열 \"asfdv\"은 문자열 내에 공백문자가 없기에 False 반환"
   ]
  },
  {
   "cell_type": "code",
   "execution_count": 32,
   "id": "91e7ec5e",
   "metadata": {},
   "outputs": [
    {
     "name": "stdout",
     "output_type": "stream",
     "text": [
      "True\n",
      "False\n",
      "False\n"
     ]
    }
   ],
   "source": [
    "print(\" \".isspace())\n",
    "print(\"abc def\".isspace())\n",
    "print(\"asdgasd\".isspace())"
   ]
  },
  {
   "cell_type": "code",
   "execution_count": 33,
   "id": "aa3a72c9",
   "metadata": {},
   "outputs": [],
   "source": [
    "# istitle()\n",
    "# 문자열 \"String\"은 문자열 내에 제목과 같이 첫 글자가 대문자이기에 True 반환\n",
    "# 문자열 \"STRING\"은 모든 문자가 대문자이기에 False 반환"
   ]
  },
  {
   "cell_type": "code",
   "execution_count": 34,
   "id": "1110f728",
   "metadata": {},
   "outputs": [
    {
     "name": "stdout",
     "output_type": "stream",
     "text": [
      "True\n",
      "False\n"
     ]
    }
   ],
   "source": [
    "print(\"String\".istitle())\n",
    "print(\"STring\".istitle())"
   ]
  },
  {
   "cell_type": "code",
   "execution_count": 35,
   "id": "17fad3c0",
   "metadata": {},
   "outputs": [],
   "source": [
    "# islower()\n",
    "# 문자열 모두 소문자일 경우 True 반환"
   ]
  },
  {
   "cell_type": "code",
   "execution_count": 38,
   "id": "a96a3943",
   "metadata": {},
   "outputs": [
    {
     "name": "stdout",
     "output_type": "stream",
     "text": [
      "False\n",
      "False\n",
      "True\n"
     ]
    }
   ],
   "source": [
    "print(\"String\".islower())\n",
    "print(\"STring\".islower())\n",
    "print(\"string\".islower())"
   ]
  },
  {
   "cell_type": "code",
   "execution_count": 39,
   "id": "1e6f39aa",
   "metadata": {},
   "outputs": [],
   "source": [
    "# isupper()\n",
    "# 문자열이 모두 대문자일 경우 True 반환"
   ]
  },
  {
   "cell_type": "code",
   "execution_count": 41,
   "id": "e58dd1bf",
   "metadata": {},
   "outputs": [
    {
     "name": "stdout",
     "output_type": "stream",
     "text": [
      "True\n",
      "False\n",
      "False\n"
     ]
    }
   ],
   "source": [
    "print(\"STRING\".isupper())\n",
    "print(\"STring\".isupper())\n",
    "print(\"string\".isupper())"
   ]
  },
  {
   "cell_type": "code",
   "execution_count": 42,
   "id": "e05e5420",
   "metadata": {},
   "outputs": [],
   "source": [
    "# join()\n",
    "# 문자열 \"String\"에 대해서 join으로 공백문자 ' '를 문자 사이마다 추가한 문자열 \"S t r i n g\"를 반환"
   ]
  },
  {
   "cell_type": "code",
   "execution_count": 49,
   "id": "72433ef8",
   "metadata": {},
   "outputs": [
    {
     "name": "stdout",
     "output_type": "stream",
     "text": [
      "s t r i n g\n",
      "s_t_r_i_n_g\n"
     ]
    }
   ],
   "source": [
    "print(' '.join(\"string\"))\n",
    "print('_'.join(\"string\"))"
   ]
  },
  {
   "cell_type": "code",
   "execution_count": 50,
   "id": "c83f0a9d",
   "metadata": {},
   "outputs": [],
   "source": [
    "# center() / ljust() / rjust()\n",
    "# 문자열 \"String\"에 대해서 center()를 사용하면 너비 10에 해당하는 문자열 길이에 가운데 정렬한 문자열 \"String\"로 반환\n",
    "# 문자열 \"String\"에 대해서 ljust()를 사용하면 너비 10에 해당하는 문자열 길이에 좌측 정렬한 문자열 \"String\"로 반환\n",
    "# 문자열 \"String\"에 대해서 rjust()를 사용하면 너비 10에 해당하는 문자열 길이에 우측 정렬한 문자열 \"String\"로 반환"
   ]
  },
  {
   "cell_type": "code",
   "execution_count": 53,
   "id": "f2f08619",
   "metadata": {},
   "outputs": [
    {
     "name": "stdout",
     "output_type": "stream",
     "text": [
      "  string  \n",
      "string    \n",
      "    string\n"
     ]
    }
   ],
   "source": [
    "print(\"string\".center(10))\n",
    "print(\"string\".ljust(10))\n",
    "print(\"string\".rjust(10))"
   ]
  },
  {
   "cell_type": "code",
   "execution_count": 54,
   "id": "c3c304c0",
   "metadata": {},
   "outputs": [],
   "source": [
    "# lower() / upper() / title() / swapcase()"
   ]
  },
  {
   "cell_type": "code",
   "execution_count": 55,
   "id": "0f8cface",
   "metadata": {},
   "outputs": [
    {
     "name": "stdout",
     "output_type": "stream",
     "text": [
      "string\n",
      "STRING\n",
      "String\n",
      "sTRING\n"
     ]
    }
   ],
   "source": [
    "print(\"String\".lower())\n",
    "print(\"String\".upper())\n",
    "print(\"string\".title())\n",
    "print(\"String\".swapcase())"
   ]
  },
  {
   "cell_type": "code",
   "execution_count": 56,
   "id": "7ef0b135",
   "metadata": {},
   "outputs": [],
   "source": [
    "# strip() / lstrip() / rstrip()\n",
    "# 양쪽 공백이 포함된 문자열 \" string \"을 strip()을 통해 양측 공백 제거\n",
    "# 양쪽 공백이 포함된 문자열 \" string \"을 lstrip()을 통해 좌측 공백 제거\n",
    "# 양쪽 공백이 포함된 문자열 \" string \"을 rstrip()을 통해 우측 공백 제거"
   ]
  },
  {
   "cell_type": "code",
   "execution_count": 57,
   "id": "126da8eb",
   "metadata": {},
   "outputs": [
    {
     "name": "stdout",
     "output_type": "stream",
     "text": [
      "string\n",
      "string \n",
      " string\n"
     ]
    }
   ],
   "source": [
    "print(\" string \".strip())\n",
    "print(\" string \".lstrip())\n",
    "print(\" string \".rstrip())"
   ]
  },
  {
   "cell_type": "code",
   "execution_count": 58,
   "id": "83c3634f",
   "metadata": {},
   "outputs": [],
   "source": [
    "# partition() / rpartition()\n",
    "# 문자열 \"String\"을 partition()을 이용하여 문자 't'를 기준으로 분할\n",
    "# 문자열 \"String String\"을 rpartition()을 이용하여 문자 't'를 기준으로 분할"
   ]
  },
  {
   "cell_type": "code",
   "execution_count": 60,
   "id": "b0701268",
   "metadata": {},
   "outputs": [
    {
     "data": {
      "text/plain": [
       "('S', 't', 'ring')"
      ]
     },
     "execution_count": 60,
     "metadata": {},
     "output_type": "execute_result"
    }
   ],
   "source": [
    "\"String\".partition('t')"
   ]
  },
  {
   "cell_type": "code",
   "execution_count": 61,
   "id": "fa2a58f7",
   "metadata": {},
   "outputs": [
    {
     "data": {
      "text/plain": [
       "('String S', 't', 'ring')"
      ]
     },
     "execution_count": 61,
     "metadata": {},
     "output_type": "execute_result"
    }
   ],
   "source": [
    "\"String String\".rpartition('t')"
   ]
  },
  {
   "cell_type": "code",
   "execution_count": 62,
   "id": "d8eafcb9",
   "metadata": {},
   "outputs": [],
   "source": [
    "# replace()\n",
    "# 문자열 \"String\"을 replace()를 사용하여 문자열 \"Str\"을 \"R\"로 교체"
   ]
  },
  {
   "cell_type": "code",
   "execution_count": 63,
   "id": "0407fccb",
   "metadata": {},
   "outputs": [
    {
     "data": {
      "text/plain": [
       "'Ring'"
      ]
     },
     "execution_count": 63,
     "metadata": {},
     "output_type": "execute_result"
    }
   ],
   "source": [
    "\"String\".replace(\"Str\", \"R\")"
   ]
  },
  {
   "cell_type": "code",
   "execution_count": 64,
   "id": "ea92d1cd",
   "metadata": {},
   "outputs": [],
   "source": [
    "# split() / rsplit() / splitlines()\n",
    "# 문자열 \"1 2 3\"을 split()의 기본 구분자를 사용하여 '1' '2' '3'으로 구분\n",
    "# 문자열 \"1_2_3\"을 split('_')를 사용하여 구분\n",
    "# 문자열 \"1 2 3\"을 split()의 기본 구분자를 사용하여 1번만 구분하여 '1' '2 3'으로 구분\n",
    "# 문자열 \"1 2 3\"을 rsplit()의 기본 구분자를 사용하고 1번만 구분하여 '1 2' '3'으로 구분\n",
    "# 문자열 \"123\\n123\\n123\\n\"을 splitlines() 함수를 사용하여 라인 단위로 구분하여 '123' '123' '123'으로 반환"
   ]
  },
  {
   "cell_type": "code",
   "execution_count": 65,
   "id": "87f54970",
   "metadata": {},
   "outputs": [
    {
     "data": {
      "text/plain": [
       "['1', '2', '3']"
      ]
     },
     "execution_count": 65,
     "metadata": {},
     "output_type": "execute_result"
    }
   ],
   "source": [
    "\"1 2 3\".split(\" \")"
   ]
  },
  {
   "cell_type": "code",
   "execution_count": 66,
   "id": "fc6904f2",
   "metadata": {},
   "outputs": [
    {
     "data": {
      "text/plain": [
       "['1', '2', '3']"
      ]
     },
     "execution_count": 66,
     "metadata": {},
     "output_type": "execute_result"
    }
   ],
   "source": [
    "\"1_2_3\".split(\"_\")"
   ]
  },
  {
   "cell_type": "code",
   "execution_count": 67,
   "id": "1cc58f10",
   "metadata": {},
   "outputs": [
    {
     "data": {
      "text/plain": [
       "['1', '2 3']"
      ]
     },
     "execution_count": 67,
     "metadata": {},
     "output_type": "execute_result"
    }
   ],
   "source": [
    "\"1 2 3\".split(\" \", maxsplit = 1)"
   ]
  },
  {
   "cell_type": "code",
   "execution_count": 68,
   "id": "d953f2de",
   "metadata": {},
   "outputs": [
    {
     "data": {
      "text/plain": [
       "['1 2', '3']"
      ]
     },
     "execution_count": 68,
     "metadata": {},
     "output_type": "execute_result"
    }
   ],
   "source": [
    "\"1 2 3\".rsplit(\" \", maxsplit = 1)"
   ]
  },
  {
   "cell_type": "code",
   "execution_count": 69,
   "id": "ec869e74",
   "metadata": {},
   "outputs": [
    {
     "data": {
      "text/plain": [
       "['123', '123', '123']"
      ]
     },
     "execution_count": 69,
     "metadata": {},
     "output_type": "execute_result"
    }
   ],
   "source": [
    "\"123\\n123\\n123\\n\".splitlines()"
   ]
  },
  {
   "cell_type": "code",
   "execution_count": 70,
   "id": "f38eedaf",
   "metadata": {},
   "outputs": [],
   "source": [
    "# startswith() / endswith()\n",
    "# 문자열 \"String\"에서 시작 문자가 'S'인지 stratswith()를 통해 확인\n",
    "# 문자열 \"String\"에서 마지막 문자가 'h'인지 endswith()를 통해 확인"
   ]
  },
  {
   "cell_type": "code",
   "execution_count": 71,
   "id": "af6d9556",
   "metadata": {},
   "outputs": [
    {
     "data": {
      "text/plain": [
       "True"
      ]
     },
     "execution_count": 71,
     "metadata": {},
     "output_type": "execute_result"
    }
   ],
   "source": [
    "\"String\".startswith('S')"
   ]
  },
  {
   "cell_type": "code",
   "execution_count": 72,
   "id": "976965ac",
   "metadata": {},
   "outputs": [
    {
     "data": {
      "text/plain": [
       "True"
      ]
     },
     "execution_count": 72,
     "metadata": {},
     "output_type": "execute_result"
    }
   ],
   "source": [
    "\"String\".endswith('g')"
   ]
  },
  {
   "cell_type": "code",
   "execution_count": 73,
   "id": "1f53adbe",
   "metadata": {},
   "outputs": [],
   "source": [
    "# zfill()\n",
    "# 문자열 \"123\"에서 너비 8만큼으로 늘리고 비어있는 부분에 '0'이 채워진 문자열 \"00000123\"반환"
   ]
  },
  {
   "cell_type": "code",
   "execution_count": 74,
   "id": "0273fa8e",
   "metadata": {},
   "outputs": [
    {
     "data": {
      "text/plain": [
       "'00000123'"
      ]
     },
     "execution_count": 74,
     "metadata": {},
     "output_type": "execute_result"
    }
   ],
   "source": [
    "\"123\".zfill(8)"
   ]
  },
  {
   "cell_type": "code",
   "execution_count": null,
   "id": "37bdf3ca",
   "metadata": {},
   "outputs": [],
   "source": []
  }
 ],
 "metadata": {
  "kernelspec": {
   "display_name": "Python 3 (ipykernel)",
   "language": "python",
   "name": "python3"
  },
  "language_info": {
   "codemirror_mode": {
    "name": "ipython",
    "version": 3
   },
   "file_extension": ".py",
   "mimetype": "text/x-python",
   "name": "python",
   "nbconvert_exporter": "python",
   "pygments_lexer": "ipython3",
   "version": "3.9.7"
  }
 },
 "nbformat": 4,
 "nbformat_minor": 5
}
